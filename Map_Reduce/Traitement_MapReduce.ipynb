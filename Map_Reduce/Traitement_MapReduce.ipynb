{
 "cells": [
  {
   "cell_type": "markdown",
   "id": "Doq1sYwSSSWk",
   "metadata": {
    "id": "Doq1sYwSSSWk"
   },
   "source": [
    "# Problématique :\n",
    "Le concessionnaire a constaté la perte de données cruciales avant l'introduction du système de gestion de données centralisé, en particulier des details tels que les émissions de CO2, les tarifs énergétiques et les informations sur les bonus/malus pour la taxation des véhicules par marque et modèle. Ces données sont essentielles pour enrichir les modèles prédictifs du concessionnaire. Bien qu'un fichier CO2.csv soit disponible, il présente des lacunes : il ne répertorie pas toutes les marques et modèles de voitures présents dans le catalogue du concessionnaire, et son format diffère de celui attendu. L'objectif est donc de développer un programme Map/Reduce utilisant Hadoop ou Spark pour harmoniser le fichier CO2.csv en intégrant ces données manquantes dans la table de catalogue du concessionnaire.\n",
    "\n",
    "\n",
    "Voici un exemple illustratif pour se familiariser avec le concept du système de BONUS/MALUS.\n",
    "\n",
    "![Logo Google](https://www.autoradiogps.fr/wp-content/uploads/2019/01/InfogDFAuto.gif)\n"
   ]
  },
  {
   "cell_type": "markdown",
   "id": "CWxhZr_CYP54",
   "metadata": {
    "id": "CWxhZr_CYP54"
   },
   "source": [
    "# Import des modules nécessaires"
   ]
  },
  {
   "cell_type": "code",
   "execution_count": 1,
   "id": "81645275-2069-479c-a0eb-b131de9d3408",
   "metadata": {
    "id": "81645275-2069-479c-a0eb-b131de9d3408"
   },
   "outputs": [],
   "source": [
    "\n",
    "from pyspark.sql import SparkSession\n",
    "from pyspark.sql import functions as F\n",
    "from pyspark.sql.functions import split, col, regexp_extract, substring_index, regexp_replace, round\n",
    "from pyspark.sql.functions import mean, when, avg, lit,upper\n"
   ]
  },
  {
   "cell_type": "markdown",
   "id": "f15mKWMOYYzk",
   "metadata": {
    "id": "f15mKWMOYYzk"
   },
   "source": [
    "# Initialisation de la session Spark"
   ]
  },
  {
   "cell_type": "code",
   "execution_count": 2,
   "id": "268532e8-b85b-4384-8f0f-72b3e49b14f1",
   "metadata": {
    "id": "268532e8-b85b-4384-8f0f-72b3e49b14f1",
    "outputId": "827642c1-43d8-4141-ccf2-325d996d50f8"
   },
   "outputs": [
    {
     "name": "stderr",
     "output_type": "stream",
     "text": [
      "Setting default log level to \"WARN\".\n",
      "To adjust logging level use sc.setLogLevel(newLevel). For SparkR, use setLogLevel(newLevel).\n"
     ]
    }
   ],
   "source": [
    "\n",
    "spark = SparkSession.builder \\\n",
    "    .appName(\"Intégration des données CO2 dans le catalogue du concessionnaire\") \\\n",
    "    .getOrCreate()"
   ]
  },
  {
   "cell_type": "markdown",
   "id": "ffR1ua5FYefz",
   "metadata": {
    "id": "ffR1ua5FYefz"
   },
   "source": [
    "# Chargement des données"
   ]
  },
  {
   "cell_type": "code",
   "execution_count": 3,
   "id": "ce3ad5ce-3585-427c-8a47-cc31494437c8",
   "metadata": {
    "id": "ce3ad5ce-3585-427c-8a47-cc31494437c8",
    "outputId": "e466914d-fc4f-44b9-cd99-8dd8fc5aa183"
   },
   "outputs": [
    {
     "name": "stderr",
     "output_type": "stream",
     "text": [
      "                                                                                \r"
     ]
    },
    {
     "name": "stdout",
     "output_type": "stream",
     "text": [
      "+---+--------------------+-------------+---------------+-----------+\n",
      "|_c0|     Marque / Modele|Bonus / Malus|Rejets CO2 g/km|Cout enerie|\n",
      "+---+--------------------+-------------+---------------+-----------+\n",
      "|  2|AUDI E-TRON SPORT...|    -6 000€ 1|              0|      319 €|\n",
      "|  3|AUDI E-TRON SPORT...|    -6 000€ 1|              0|      356 €|\n",
      "|  4|AUDI E-TRON 55 (4...|    -6 000€ 1|              0|      357 €|\n",
      "|  5|AUDI E-TRON 50 (3...|    -6 000€ 1|              0|      356 €|\n",
      "|  6|       BMW i3 120 Ah|    -6 000€ 1|              0|      204 €|\n",
      "|  7|      BMW i3s 120 Ah|    -6 000€ 1|              0|      204 €|\n",
      "|  8|    CITROEN BERLINGO|    -6 000€ 1|              0|      203 €|\n",
      "|  9|      CITROEN C-ZERO|    -6 000€ 1|              0|      491 €|\n",
      "| 10|DS DS3 CROSSBACK ...|    -6 000€ 1|              0|      251 €|\n",
      "| 11|HYUNDAI KONA elec...|    -6 000€ 1|              0|      205 €|\n",
      "| 12|HYUNDAI KONA elec...|    -6 000€ 1|              0|      205 €|\n",
      "| 13|JAGUAR I-PACE EV4...|    -6 000€ 1|              0|      271 €|\n",
      "| 14|KIA e-NIRO Moteur...|    -6 000€ 1|              0|      212 €|\n",
      "| 15|KIA e-NIRO Moteur...|    -6 000€ 1|              0|      203 €|\n",
      "| 16|KIA SOUL Moteur Ã...|    -6 000€ 1|              0|      214 €|\n",
      "| 17|KIA SOUL Moteur Ã...|    -6 000€ 1|              0|      214 €|\n",
      "| 18|MERCEDES EQC 400 ...|    -6 000€ 1|              0|      291 €|\n",
      "| 19|MERCEDES VITO Tou...|    -6 000€ 1|              0|      411 €|\n",
      "| 20|MERCEDES VITO Tou...|    -6 000€ 1|              0|      411 €|\n",
      "| 21|MINI MINI Cooper ...|    -6 000€ 1|              0|      199 €|\n",
      "+---+--------------------+-------------+---------------+-----------+\n",
      "only showing top 20 rows\n",
      "\n"
     ]
    },
    {
     "name": "stderr",
     "output_type": "stream",
     "text": [
      "24/05/02 12:18:35 WARN CSVHeaderChecker: CSV header does not conform to the schema.\n",
      " Header: , Marque / Modele, Bonus / Malus, Rejets CO2 g/km, Cout enerie\n",
      " Schema: _c0, Marque / Modele, Bonus / Malus, Rejets CO2 g/km, Cout enerie\n",
      "Expected: _c0 but found: \n",
      "CSV file: hdfs://localhost:9000/MBDS_Projet/CO2.csv\n"
     ]
    }
   ],
   "source": [
    "\n",
    "co2_data = spark.read.csv(\"/MBDS_Projet/CO2.csv\", header=True)\n",
    "\n",
    "co2_data.show()"
   ]
  },
  {
   "cell_type": "markdown",
   "id": "kpYn0_8OXW7g",
   "metadata": {
    "id": "kpYn0_8OXW7g"
   },
   "source": [
    "\n",
    "Ce tableau présente des données sur différents modèles de voitures, notamment leur marque et leur modèle, le montant du bonus/malus, les rejets de CO2 par kilomètre et le coût de l'énergie.\n",
    "\n",
    "La colonne \"_c0\": une colonne d'index ou d'identifiant unique pour chaque enregistrement de voiture.\n",
    "\n",
    "La colonne \"Marque / Modele\" indique la marque et le modèle de chaque voiture.\n",
    "\n",
    "La colonne \"Bonus / Malus\" montre le montant du bonus ou du malus appliqué à chaque voiture.\n",
    "\n",
    "La colonne \"Rejets CO2 g/km\" donne la quantité de CO2 rejetée par kilomètre parcouru pour chaque voiture. Dans cet extrait, toutes les valeurs semblent être zéro, ce qui peut être une caractéristique spécifique des voitures répertoriées.\n",
    "\n",
    "La colonne \"Cout enerie\" représente le coût estimé de l'énergie nécessaire pour faire fonctionner chaque voiture, généralement exprimé en euros."
   ]
  },
  {
   "cell_type": "markdown",
   "id": "KW2GBfzhYKaU",
   "metadata": {
    "id": "KW2GBfzhYKaU"
   },
   "source": [
    "# Nettoyage des données"
   ]
  },
  {
   "cell_type": "code",
   "execution_count": 4,
   "id": "ece0439e-6e7d-421b-9cb7-64d7e45a0706",
   "metadata": {
    "id": "ece0439e-6e7d-421b-9cb7-64d7e45a0706",
    "outputId": "6c2053f2-e356-4ed5-b157-ebdaeade0d56"
   },
   "outputs": [
    {
     "name": "stdout",
     "output_type": "stream",
     "text": [
      "+---+--------------------+-------------+---------------+------------+\n",
      "|_c0|     Marque / Modele|Bonus / Malus|Rejets CO2 g/km|Cout Energie|\n",
      "+---+--------------------+-------------+---------------+------------+\n",
      "|  2|AUDI E-TRON SPORT...|    -6 000€ 1|              0|       319.0|\n",
      "|  3|AUDI E-TRON SPORT...|    -6 000€ 1|              0|       356.0|\n",
      "|  4|AUDI E-TRON 55 (4...|    -6 000€ 1|              0|       357.0|\n",
      "|  5|AUDI E-TRON 50 (3...|    -6 000€ 1|              0|       356.0|\n",
      "|  6|       BMW i3 120 Ah|    -6 000€ 1|              0|       204.0|\n",
      "|  7|      BMW i3s 120 Ah|    -6 000€ 1|              0|       204.0|\n",
      "|  8|    CITROEN BERLINGO|    -6 000€ 1|              0|       203.0|\n",
      "|  9|      CITROEN C-ZERO|    -6 000€ 1|              0|       491.0|\n",
      "| 10|DS DS3 CROSSBACK ...|    -6 000€ 1|              0|       251.0|\n",
      "| 11|HYUNDAI KONA elec...|    -6 000€ 1|              0|       205.0|\n",
      "| 12|HYUNDAI KONA elec...|    -6 000€ 1|              0|       205.0|\n",
      "| 13|JAGUAR I-PACE EV4...|    -6 000€ 1|              0|       271.0|\n",
      "| 14|KIA e-NIRO Moteur...|    -6 000€ 1|              0|       212.0|\n",
      "| 15|KIA e-NIRO Moteur...|    -6 000€ 1|              0|       203.0|\n",
      "| 16|KIA SOUL Moteur Ã...|    -6 000€ 1|              0|       214.0|\n",
      "| 17|KIA SOUL Moteur Ã...|    -6 000€ 1|              0|       214.0|\n",
      "| 18|MERCEDES EQC 400 ...|    -6 000€ 1|              0|       291.0|\n",
      "| 19|MERCEDES VITO Tou...|    -6 000€ 1|              0|       411.0|\n",
      "| 20|MERCEDES VITO Tou...|    -6 000€ 1|              0|       411.0|\n",
      "| 21|MINI MINI Cooper ...|    -6 000€ 1|              0|       199.0|\n",
      "+---+--------------------+-------------+---------------+------------+\n",
      "only showing top 20 rows\n",
      "\n"
     ]
    },
    {
     "name": "stderr",
     "output_type": "stream",
     "text": [
      "24/05/02 12:18:35 WARN CSVHeaderChecker: CSV header does not conform to the schema.\n",
      " Header: , Marque / Modele, Bonus / Malus, Rejets CO2 g/km, Cout enerie\n",
      " Schema: _c0, Marque / Modele, Bonus / Malus, Rejets CO2 g/km, Cout enerie\n",
      "Expected: _c0 but found: \n",
      "CSV file: hdfs://localhost:9000/MBDS_Projet/CO2.csv\n"
     ]
    }
   ],
   "source": [
    "\n",
    "# Suppression du caractère de l'euro dans la colonne \"Cout enerie\" et renommer la colonne par \"Cout Energie\"\n",
    "co2_data_cleaned = co2_data.withColumn(\"Cout Energie\", F.regexp_replace(\"cout enerie\", \"€\", \"\"))\n",
    "co2_data_cleaned = co2_data_cleaned.drop(\"cout enerie\")\n",
    "\n",
    "# Supprimer les caractères non numériques (garder uniquement les chiffres et les décimales)\n",
    "co2_data_cleaned = co2_data_cleaned.withColumn(\"Cout Energie\", regexp_replace(col(\"Cout Energie\"), \"[^0-9.]\", \"\"))\n",
    "\n",
    "# Convertir la colonne en type numérique\n",
    "co2_data_cleaned = co2_data_cleaned.withColumn(\"Cout Energie\", co2_data_cleaned[\"Cout Energie\"].cast(\"double\"))\n",
    "\n",
    "co2_data_cleaned.show()"
   ]
  },
  {
   "cell_type": "code",
   "execution_count": 5,
   "id": "8c548262-92b5-4fc3-8b30-ff2629aeb155",
   "metadata": {
    "id": "8c548262-92b5-4fc3-8b30-ff2629aeb155",
    "outputId": "4f23aae3-0351-4305-accc-eda9d86d51b9"
   },
   "outputs": [
    {
     "name": "stdout",
     "output_type": "stream",
     "text": [
      "+---+-------------+---------------+------------+--------+--------------------+\n",
      "|_c0|Bonus / Malus|Rejets CO2 g/km|Cout Energie|  Marque|              Modele|\n",
      "+---+-------------+---------------+------------+--------+--------------------+\n",
      "|  2|    -6 000€ 1|              0|       319.0|    AUDI|E-TRON SPORTBACK ...|\n",
      "|  3|    -6 000€ 1|              0|       356.0|    AUDI|E-TRON SPORTBACK ...|\n",
      "|  4|    -6 000€ 1|              0|       357.0|    AUDI|E-TRON 55 (408ch)...|\n",
      "|  5|    -6 000€ 1|              0|       356.0|    AUDI|E-TRON 50 (313ch)...|\n",
      "|  6|    -6 000€ 1|              0|       204.0|     BMW|           i3 120 Ah|\n",
      "|  7|    -6 000€ 1|              0|       204.0|     BMW|          i3s 120 Ah|\n",
      "|  8|    -6 000€ 1|              0|       203.0| CITROEN|            BERLINGO|\n",
      "|  9|    -6 000€ 1|              0|       491.0| CITROEN|              C-ZERO|\n",
      "| 10|    -6 000€ 1|              0|       251.0|      DS|DS3 CROSSBACK E-T...|\n",
      "| 11|    -6 000€ 1|              0|       205.0| HYUNDAI|KONA electric 64 kWh|\n",
      "| 12|    -6 000€ 1|              0|       205.0| HYUNDAI|KONA electric 39 kWh|\n",
      "| 13|    -6 000€ 1|              0|       271.0|  JAGUAR|I-PACE EV400 (400...|\n",
      "| 14|    -6 000€ 1|              0|       212.0|     KIA|e-NIRO Moteur Ã©l...|\n",
      "| 15|    -6 000€ 1|              0|       203.0|     KIA|e-NIRO Moteur Ã©l...|\n",
      "| 16|    -6 000€ 1|              0|       214.0|     KIA|SOUL Moteur Ã©lec...|\n",
      "| 17|    -6 000€ 1|              0|       214.0|     KIA|SOUL Moteur Ã©lec...|\n",
      "| 18|    -6 000€ 1|              0|       291.0|MERCEDES|      EQC 400 4MATIC|\n",
      "| 19|    -6 000€ 1|              0|       411.0|MERCEDES|VITO Tourer long ...|\n",
      "| 20|    -6 000€ 1|              0|       411.0|MERCEDES|VITO Tourer extra...|\n",
      "| 21|    -6 000€ 1|              0|       199.0|    MINI|MINI Cooper SE Ha...|\n",
      "+---+-------------+---------------+------------+--------+--------------------+\n",
      "only showing top 20 rows\n",
      "\n"
     ]
    },
    {
     "name": "stderr",
     "output_type": "stream",
     "text": [
      "24/05/02 12:18:36 WARN CSVHeaderChecker: CSV header does not conform to the schema.\n",
      " Header: , Marque / Modele, Bonus / Malus, Rejets CO2 g/km, Cout enerie\n",
      " Schema: _c0, Marque / Modele, Bonus / Malus, Rejets CO2 g/km, Cout enerie\n",
      "Expected: _c0 but found: \n",
      "CSV file: hdfs://localhost:9000/MBDS_Projet/CO2.csv\n"
     ]
    }
   ],
   "source": [
    "# Séparation de la colonne \"Marque / Modèle\" en \"Marque\" et \"Modele\"\n",
    "#La séparation de la colonne \"Marque / Modèle\" en deux colonnes distinctes \"Marque\" et \"Modèle\" a été réalisée dans le but de mieux organiser et structurer les données.\n",
    "# Cette séparation permet de distinguer clairement la marque du véhicule de son modèle, ce qui facilite la manipulation et l'analyse ultérieures des données.\n",
    "\n",
    "co2_data_cleaned = co2_data_cleaned.withColumn(\"Marque\", regexp_extract(col(\"Marque / Modele\"), r\"(\\w+)\", 1))\n",
    "co2_data_cleaned = co2_data_cleaned.withColumn(\"Modele\", regexp_extract(col(\"Marque / Modele\"), r\"\\s(.*)\", 1))\n",
    "co2_data_cleaned = co2_data_cleaned.drop(\"Marque / Modele\")\n",
    "\n",
    "co2_data_cleaned.show()"
   ]
  },
  {
   "cell_type": "code",
   "execution_count": 6,
   "id": "35de9e0c-b9d1-469c-a57b-a3baab56de97",
   "metadata": {
    "id": "35de9e0c-b9d1-469c-a57b-a3baab56de97",
    "outputId": "6ee2bae3-d126-450d-e4bc-1022b2c75f32"
   },
   "outputs": [
    {
     "name": "stdout",
     "output_type": "stream",
     "text": [
      "+---+-------------+---------------+------------+--------+--------------------+------+\n",
      "|_c0|Bonus / Malus|Rejets CO2 g/km|Cout Energie|  Marque|              Modele|Devise|\n",
      "+---+-------------+---------------+------------+--------+--------------------+------+\n",
      "|  2|       -6 000|              0|       319.0|    AUDI|E-TRON SPORTBACK ...|     €|\n",
      "|  3|       -6 000|              0|       356.0|    AUDI|E-TRON SPORTBACK ...|     €|\n",
      "|  4|       -6 000|              0|       357.0|    AUDI|E-TRON 55 (408ch)...|     €|\n",
      "|  5|       -6 000|              0|       356.0|    AUDI|E-TRON 50 (313ch)...|     €|\n",
      "|  6|       -6 000|              0|       204.0|     BMW|           i3 120 Ah|     €|\n",
      "|  7|       -6 000|              0|       204.0|     BMW|          i3s 120 Ah|     €|\n",
      "|  8|       -6 000|              0|       203.0| CITROEN|            BERLINGO|     €|\n",
      "|  9|       -6 000|              0|       491.0| CITROEN|              C-ZERO|     €|\n",
      "| 10|       -6 000|              0|       251.0|      DS|DS3 CROSSBACK E-T...|     €|\n",
      "| 11|       -6 000|              0|       205.0| HYUNDAI|KONA electric 64 kWh|     €|\n",
      "| 12|       -6 000|              0|       205.0| HYUNDAI|KONA electric 39 kWh|     €|\n",
      "| 13|       -6 000|              0|       271.0|  JAGUAR|I-PACE EV400 (400...|     €|\n",
      "| 14|       -6 000|              0|       212.0|     KIA|e-NIRO Moteur Ã©l...|     €|\n",
      "| 15|       -6 000|              0|       203.0|     KIA|e-NIRO Moteur Ã©l...|     €|\n",
      "| 16|       -6 000|              0|       214.0|     KIA|SOUL Moteur Ã©lec...|     €|\n",
      "| 17|       -6 000|              0|       214.0|     KIA|SOUL Moteur Ã©lec...|     €|\n",
      "| 18|       -6 000|              0|       291.0|MERCEDES|      EQC 400 4MATIC|     €|\n",
      "| 19|       -6 000|              0|       411.0|MERCEDES|VITO Tourer long ...|     €|\n",
      "| 20|       -6 000|              0|       411.0|MERCEDES|VITO Tourer extra...|     €|\n",
      "| 21|       -6 000|              0|       199.0|    MINI|MINI Cooper SE Ha...|     €|\n",
      "+---+-------------+---------------+------------+--------+--------------------+------+\n",
      "only showing top 20 rows\n",
      "\n"
     ]
    },
    {
     "name": "stderr",
     "output_type": "stream",
     "text": [
      "24/05/02 12:18:36 WARN CSVHeaderChecker: CSV header does not conform to the schema.\n",
      " Header: , Marque / Modele, Bonus / Malus, Rejets CO2 g/km, Cout enerie\n",
      " Schema: _c0, Marque / Modele, Bonus / Malus, Rejets CO2 g/km, Cout enerie\n",
      "Expected: _c0 but found: \n",
      "CSV file: hdfs://localhost:9000/MBDS_Projet/CO2.csv\n"
     ]
    }
   ],
   "source": [
    "# Supprimer les caractères après le symbole de l'euro dans la colonne \"Bonus / Malus\"\n",
    "co2_data_cleaned = co2_data_cleaned.withColumn(\"Bonus / Malus\", regexp_replace(\"Bonus / Malus\", \"€.*$\", \"€\"))\n",
    "\n",
    "\n",
    "# Définir une nouvelle colonne \"Devise\" en extrayant la devise de la colonne \"Bonus / Malus\"\n",
    "co2_data_cleaned = co2_data_cleaned.withColumn(\"Devise\", regexp_extract(col(\"Bonus / Malus\"), r'(-?\\d+\\s?\\d*)\\s?([€$])', 2))\n",
    "\n",
    "# Supprimer le symbole de l'euro dans la colonne \"Bonus / Malus\"\n",
    "co2_data_cleaned = co2_data_cleaned.withColumn(\"Bonus / Malus\", regexp_replace(\"Bonus / Malus\", \"€\", \"\"))\n",
    "\n",
    "# Remplacer \"-\" par 0 seulement si la colonne entière contient un \"-\"\n",
    "co2_data_cleaned = co2_data_cleaned.withColumn(\"Bonus / Malus\",\n",
    "                                               when(col(\"Bonus / Malus\") == \"-\", \"0\")\n",
    "                                               .otherwise(col(\"Bonus / Malus\")))\n",
    "co2_data_cleaned.show()"
   ]
  },
  {
   "cell_type": "markdown",
   "id": "UnjKsr-GdLFx",
   "metadata": {
    "id": "UnjKsr-GdLFx"
   },
   "source": [
    "On travaille par la suite sur :\n",
    "\n",
    "Extraction des parties numériques et des signes \"+\" et \"-\": Il utilise une expression régulière pour rechercher des motifs spécifiques dans les valeurs de la colonne \"Bonus / Malus\". Cette expression régulière cherche des chiffres, éventuellement suivis d'un point décimal, et peut être précédée d'un signe \"+\" ou \"-\". Les valeurs qui correspondent à ce motif sont conservées telles quelles, tandis que celles qui ne correspondent pas sont remplacées par \"0\".\n",
    "\n",
    "Extraction du signe de la colonne \"Bonus / Malus\": Une fois que les valeurs numériques ont été extraites, le code utilise à nouveau une expression régulière pour extraire le signe \"+\" ou \"-\" de chaque valeur de la colonne \"Bonus / Malus\" et la stocke dans une nouvelle colonne appelée \"Signe\".\n",
    "\n",
    "Suppression des caractères non numériques: Tous les caractères non numériques, à l'exception du point décimal, sont supprimés de la colonne \"Bonus / Malus\". Cela garantit que seuls les chiffres et les décimales restent dans les valeurs.\n",
    "\n",
    "Conversion des valeurs en nombres décimaux: Les valeurs de la colonne \"Bonus / Malus\" sont converties de chaînes de caractères en nombres décimaux (doubles).\n",
    "\n",
    "Traitement des valeurs négatives: Si le signe extrait est \"-\", cela signifie que la valeur était négative. Dans ce cas, les valeurs correspondantes dans la colonne \"Bonus / Malus\" sont multipliées par -1 pour les rendre positives.\n",
    "\n",
    "Suppression de la colonne \"Signe\": Une fois que les valeurs ont été correctement transformées, la colonne \"Signe\" temporaire est supprimée car elle n'est plus nécessaire."
   ]
  },
  {
   "cell_type": "code",
   "execution_count": 7,
   "id": "f75974d2-a80b-4ec5-ab8a-a77dba707c2c",
   "metadata": {
    "id": "f75974d2-a80b-4ec5-ab8a-a77dba707c2c",
    "outputId": "af53b1a0-b603-4591-d77b-82fb92248a29"
   },
   "outputs": [
    {
     "name": "stdout",
     "output_type": "stream",
     "text": [
      "+---+-------------+---------------+------------+--------+--------------------+------+\n",
      "|_c0|Bonus / Malus|Rejets CO2 g/km|Cout Energie|  Marque|              Modele|Devise|\n",
      "+---+-------------+---------------+------------+--------+--------------------+------+\n",
      "|  2|      -6000.0|              0|       319.0|    AUDI|E-TRON SPORTBACK ...|     €|\n",
      "|  3|      -6000.0|              0|       356.0|    AUDI|E-TRON SPORTBACK ...|     €|\n",
      "|  4|      -6000.0|              0|       357.0|    AUDI|E-TRON 55 (408ch)...|     €|\n",
      "|  5|      -6000.0|              0|       356.0|    AUDI|E-TRON 50 (313ch)...|     €|\n",
      "|  6|      -6000.0|              0|       204.0|     BMW|           i3 120 Ah|     €|\n",
      "|  7|      -6000.0|              0|       204.0|     BMW|          i3s 120 Ah|     €|\n",
      "|  8|      -6000.0|              0|       203.0| CITROEN|            BERLINGO|     €|\n",
      "|  9|      -6000.0|              0|       491.0| CITROEN|              C-ZERO|     €|\n",
      "| 10|      -6000.0|              0|       251.0|      DS|DS3 CROSSBACK E-T...|     €|\n",
      "| 11|      -6000.0|              0|       205.0| HYUNDAI|KONA electric 64 kWh|     €|\n",
      "| 12|      -6000.0|              0|       205.0| HYUNDAI|KONA electric 39 kWh|     €|\n",
      "| 13|      -6000.0|              0|       271.0|  JAGUAR|I-PACE EV400 (400...|     €|\n",
      "| 14|      -6000.0|              0|       212.0|     KIA|e-NIRO Moteur Ã©l...|     €|\n",
      "| 15|      -6000.0|              0|       203.0|     KIA|e-NIRO Moteur Ã©l...|     €|\n",
      "| 16|      -6000.0|              0|       214.0|     KIA|SOUL Moteur Ã©lec...|     €|\n",
      "| 17|      -6000.0|              0|       214.0|     KIA|SOUL Moteur Ã©lec...|     €|\n",
      "| 18|      -6000.0|              0|       291.0|MERCEDES|      EQC 400 4MATIC|     €|\n",
      "| 19|      -6000.0|              0|       411.0|MERCEDES|VITO Tourer long ...|     €|\n",
      "| 20|      -6000.0|              0|       411.0|MERCEDES|VITO Tourer extra...|     €|\n",
      "| 21|      -6000.0|              0|       199.0|    MINI|MINI Cooper SE Ha...|     €|\n",
      "+---+-------------+---------------+------------+--------+--------------------+------+\n",
      "only showing top 20 rows\n",
      "\n"
     ]
    },
    {
     "name": "stderr",
     "output_type": "stream",
     "text": [
      "24/05/02 12:18:36 WARN CSVHeaderChecker: CSV header does not conform to the schema.\n",
      " Header: , Marque / Modele, Bonus / Malus, Rejets CO2 g/km, Cout enerie\n",
      " Schema: _c0, Marque / Modele, Bonus / Malus, Rejets CO2 g/km, Cout enerie\n",
      "Expected: _c0 but found: \n",
      "CSV file: hdfs://localhost:9000/MBDS_Projet/CO2.csv\n"
     ]
    }
   ],
   "source": [
    "# Utiliser une expression régulière pour extraire les parties numériques\n",
    "co2_data_cleaned = co2_data_cleaned.withColumn(\"Bonus / Malus\",\n",
    "                                               when(\n",
    "                                                   co2_data_cleaned[\"Bonus / Malus\"].rlike(r'^[+-]?\\d+(\\.\\d+)?'),\n",
    "                                                   co2_data_cleaned[\"Bonus / Malus\"]\n",
    "                                               ).otherwise(\"0\"))\n",
    "\n",
    "# Utiliser une expression régulière pour extraire le signe de la colonne \"Bonus / Malus\"\n",
    "co2_data_cleaned = co2_data_cleaned.withColumn(\"Signe\", regexp_extract(co2_data_cleaned[\"Bonus / Malus\"], r'([+-])', 1))\n",
    "\n",
    "# Supprimer les caractères non numériques (garder uniquement les chiffres et les décimales)\n",
    "co2_data_cleaned = co2_data_cleaned.withColumn(\"Bonus / Malus\", regexp_replace(col(\"Bonus / Malus\"), \"[^0-9.]\", \"\"))\n",
    "\n",
    "# Convertir la colonne de chaînes en colonne de doubles en conservant le signe\n",
    "co2_data_cleaned= co2_data_cleaned.withColumn(\"Bonus / Malus\", col(\"Bonus / Malus\").cast(\"double\"))\n",
    "\n",
    "# Multiplier les valeurs de la colonne \"Bonus/Malus\" par -1 lorsque le signe est \"-\"\n",
    "co2_data_cleaned = co2_data_cleaned.withColumn(\"Bonus / Malus\",\n",
    "                                               when(col(\"Signe\") == \"-\", col(\"Bonus / Malus\") * -1)\n",
    "                                               .otherwise(col(\"Bonus / Malus\")))\n",
    "\n",
    "# Supprimer la colonne \"Signe\"\n",
    "co2_data_cleaned = co2_data_cleaned.drop(\"Signe\")\n",
    "\n",
    "co2_data_cleaned.show()"
   ]
  },
  {
   "cell_type": "markdown",
   "id": "7ZBDdUkSdth4",
   "metadata": {
    "id": "7ZBDdUkSdth4"
   },
   "source": [
    "# Preparation des valeurs calculées :\n",
    "la moyenne pour \"Bonus / Malus\""
   ]
  },
  {
   "cell_type": "code",
   "execution_count": 8,
   "id": "0d4d4771-dac2-48e3-a22e-51fb39d8b8dc",
   "metadata": {
    "id": "0d4d4771-dac2-48e3-a22e-51fb39d8b8dc",
    "outputId": "cf9a1d46-1253-44b7-fa78-e33a18636c52"
   },
   "outputs": [
    {
     "name": "stdout",
     "output_type": "stream",
     "text": [
      "+----------+---------------------------+\n",
      "|    Marque|Moyenne Bonus/Malus en euro|\n",
      "+----------+---------------------------+\n",
      "|  MERCEDES|          8237.358422939069|\n",
      "|   HYUNDAI|                    -6000.0|\n",
      "|     SKODA|                    -6000.0|\n",
      "|    NISSAN|                     5802.4|\n",
      "|   CITROEN|                    -6000.0|\n",
      "|      AUDI|                    -6000.0|\n",
      "|      MINI|                    -6000.0|\n",
      "|   PEUGEOT|                    -6000.0|\n",
      "|    JAGUAR|                    -6000.0|\n",
      "|     TESLA|                    -6000.0|\n",
      "|       BMW|                    -6000.0|\n",
      "|VOLKSWAGEN|                    -6000.0|\n",
      "|       KIA|                    -6000.0|\n",
      "|     SMART|                    -6000.0|\n",
      "|   RENAULT|                    -6000.0|\n",
      "|        DS|                    -6000.0|\n",
      "+----------+---------------------------+\n",
      "\n"
     ]
    }
   ],
   "source": [
    "# Calcul de la moyenne pour \"Bonus / Malus\" (en excluant les valeurs nulles)\n",
    "avg_bonus_malus = co2_data_cleaned.filter(col(\"Bonus / Malus\") != 0.0).groupBy(\"Marque\").agg(F.avg(\"Bonus / Malus\").alias(\"Moyenne Bonus/Malus en euro\"))\n",
    "\n",
    "avg_bonus_malus.show()"
   ]
  },
  {
   "cell_type": "markdown",
   "id": "jb4XQEX2do2c",
   "metadata": {
    "id": "jb4XQEX2do2c"
   },
   "source": [
    "la moyenne pour \"Rejets CO2 g/km\""
   ]
  },
  {
   "cell_type": "code",
   "execution_count": 9,
   "id": "b023e7d0-a330-4a8a-a4b1-e3d39e1ac8a6",
   "metadata": {
    "id": "b023e7d0-a330-4a8a-a4b1-e3d39e1ac8a6",
    "outputId": "83c5d173-62eb-431c-e77f-cdbbf509996a"
   },
   "outputs": [
    {
     "name": "stdout",
     "output_type": "stream",
     "text": [
      "+----------+-----------------------+\n",
      "|    Marque|Moyenne Rejets CO2 g/km|\n",
      "+----------+-----------------------+\n",
      "|  MERCEDES|     189.55479452054794|\n",
      "|   PORSCHE|      69.85714285714286|\n",
      "|   HYUNDAI|                   26.0|\n",
      "|    TOYOTA|                   32.0|\n",
      "|     SKODA|                   31.0|\n",
      "|      LAND|                   69.0|\n",
      "|    NISSAN|                  200.0|\n",
      "|   BENTLEY|                   84.0|\n",
      "|      AUDI|                   43.5|\n",
      "|      MINI|                   43.0|\n",
      "|   PEUGEOT|     31.666666666666668|\n",
      "|     VOLVO|      42.45454545454545|\n",
      "|       BMW|      43.88235294117647|\n",
      "|VOLKSWAGEN|                   32.8|\n",
      "|       KIA|                   31.0|\n",
      "|        DS|                   33.0|\n",
      "|MITSUBISHI|                   40.0|\n",
      "+----------+-----------------------+\n",
      "\n"
     ]
    }
   ],
   "source": [
    "# Convertir la colonne \"Rejets CO2 g/km\" en type numérique\n",
    "co2_data_cleaned = co2_data_cleaned.withColumn(\"Rejets CO2 g/km\", co2_data_cleaned[\"Rejets CO2 g/km\"].cast(\"double\"))\n",
    "\n",
    "# Calcul de la moyenne pour \"Rejets CO2 g/km\" (en excluant les valeurs égales à zéro)\n",
    "avg_co2_emission = co2_data_cleaned.filter((col(\"Rejets CO2 g/km\").rlike(r'^\\d+(\\.\\d+)?$')) & (col(\"Rejets CO2 g/km\") != 0)) \\\n",
    "                                    .groupBy(\"Marque\") \\\n",
    "                                    .agg(F.avg(\"Rejets CO2 g/km\").alias(\"Moyenne Rejets CO2 g/km\"))\n",
    "\n",
    "avg_co2_emission.show()"
   ]
  },
  {
   "cell_type": "markdown",
   "id": "O_Ss2lhveC3_",
   "metadata": {
    "id": "O_Ss2lhveC3_"
   },
   "source": [
    "La moyenne du coût de l'énergie"
   ]
  },
  {
   "cell_type": "code",
   "execution_count": 10,
   "id": "e725e1fe-ee2b-4fca-a911-279896899cf5",
   "metadata": {
    "id": "e725e1fe-ee2b-4fca-a911-279896899cf5",
    "outputId": "d134939b-df0a-46cf-c0e1-a8d05213709c"
   },
   "outputs": [
    {
     "name": "stdout",
     "output_type": "stream",
     "text": [
      "+----------+--------------------------+\n",
      "|    Marque|Cout Energie Moyen en euro|\n",
      "+----------+--------------------------+\n",
      "|  MERCEDES|         749.9796610169492|\n",
      "|   PORSCHE|         89.71428571428571|\n",
      "|   HYUNDAI|                     151.0|\n",
      "|    TOYOTA|                      43.0|\n",
      "|     SKODA|         98.88888888888889|\n",
      "|    NISSAN|                     681.2|\n",
      "|      LAND|                      78.0|\n",
      "|   CITROEN|                     347.0|\n",
      "|   BENTLEY|                     102.0|\n",
      "|      AUDI|                     191.6|\n",
      "|      MINI|                     126.0|\n",
      "|   PEUGEOT|        144.16666666666666|\n",
      "|    JAGUAR|                     271.0|\n",
      "|     VOLVO|         72.72727272727273|\n",
      "|     TESLA|        245.88888888888889|\n",
      "|       BMW|         80.52631578947368|\n",
      "|VOLKSWAGEN|                      96.0|\n",
      "|       KIA|        157.66666666666666|\n",
      "|     SMART|        191.36363636363637|\n",
      "|   RENAULT|                     206.0|\n",
      "+----------+--------------------------+\n",
      "only showing top 20 rows\n",
      "\n"
     ]
    }
   ],
   "source": [
    "# Calcul du coût d'énergie pour chaque marque\n",
    "energy_cost_per_brand = co2_data_cleaned.groupBy(\"Marque\").agg(F.avg(\"Cout Energie\").alias(\"Cout Energie Moyen en euro\"))\n",
    "\n",
    "energy_cost_per_brand.show()"
   ]
  },
  {
   "cell_type": "markdown",
   "id": "lg8ejzNFeZVd",
   "metadata": {
    "id": "lg8ejzNFeZVd"
   },
   "source": [
    "# Combinaison des DataFrames\n",
    "Suivant on  réalise une jointure entre trois DataFrames sur la colonne \"Marque\" afin de combiner les informations sur la moyenne du bonus/malus, la moyenne des rejets de CO2 et la moyenne du coût de l'énergie pour chaque marque de voiture. Voici pourquoi chaque étape est effectuée :\n",
    "\n",
    "1. **Jointure des DataFrames :** Les trois DataFrames contiennent des informations sur différentes caractéristiques des voitures, mais toutes sont liées par la colonne \"Marque\". La jointure est réalisée avec la méthode `join` pour fusionner les données en fonction de cette colonne commune.\n",
    "\n",
    "\n",
    "2. **Sélection des colonnes et arrondi des moyennes :** Une fois que les DataFrames sont joints, la méthode `select` est utilisée pour sélectionner les colonnes pertinentes, à savoir \"Marque\", \"Moyenne Bonus/Malus en euro\", \"Moyenne Rejets CO2 g/km\" et \"Cout Energie Moyen en euro\". De plus, les valeurs des moyennes sont arrondies à trois chiffres après la virgule pour des raisons de lisibilité.\n",
    "\n",
    "3. **Remplacement des valeurs NULL :** Certaines marques peuvent ne pas avoir de valeurs pour les moyennes du bonus/malus ou des rejets de CO2. Pour éviter toute confusion lors de l'analyse ultérieure, les valeurs NULL dans ces colonnes sont remplacées par 0 à l'aide de la méthode `na.fill`.\n",
    "\n",
    "4. **Affichage du tableau combiné :** Enfin, le DataFrame combiné est affiché à l'aide de la méthode `show`, avec l'option `truncate=False` pour afficher toutes les données sans tronquer les colonnes. Cela permet de visualiser facilement les informations combinées sur les moyennes pour chaque marque de voiture."
   ]
  },
  {
   "cell_type": "code",
   "execution_count": 11,
   "id": "f8ca9bf3-e41d-41e4-9486-b67965ec374c",
   "metadata": {
    "id": "f8ca9bf3-e41d-41e4-9486-b67965ec374c",
    "outputId": "47199879-ef78-4113-fa14-aa77aad15af1"
   },
   "outputs": [
    {
     "name": "stdout",
     "output_type": "stream",
     "text": [
      "+----------+---------------------------+-----------------------+--------------------------+\n",
      "|Marque    |Moyenne Bonus/Malus en euro|Moyenne Rejets CO2 g/km|Cout Energie Moyen en euro|\n",
      "+----------+---------------------------+-----------------------+--------------------------+\n",
      "|AUDI      |-6000.0                    |43.5                   |191.6                     |\n",
      "|BENTLEY   |0.0                        |84.0                   |102.0                     |\n",
      "|BMW       |-6000.0                    |43.882                 |80.526                    |\n",
      "|CITROEN   |-6000.0                    |0.0                    |347.0                     |\n",
      "|DS        |-6000.0                    |33.0                   |159.0                     |\n",
      "|HYUNDAI   |-6000.0                    |26.0                   |151.0                     |\n",
      "|JAGUAR    |-6000.0                    |0.0                    |271.0                     |\n",
      "|KIA       |-6000.0                    |31.0                   |157.667                   |\n",
      "|LAND      |0.0                        |69.0                   |78.0                      |\n",
      "|MERCEDES  |8237.358                   |189.555                |749.98                    |\n",
      "|MINI      |-6000.0                    |43.0                   |126.0                     |\n",
      "|MITSUBISHI|0.0                        |40.0                   |98.0                      |\n",
      "|NISSAN    |5802.4                     |200.0                  |681.2                     |\n",
      "|PEUGEOT   |-6000.0                    |31.667                 |144.167                   |\n",
      "|PORSCHE   |0.0                        |69.857                 |89.714                    |\n",
      "|RENAULT   |-6000.0                    |0.0                    |206.0                     |\n",
      "|SKODA     |-6000.0                    |31.0                   |98.889                    |\n",
      "|SMART     |-6000.0                    |0.0                    |191.364                   |\n",
      "|TESLA     |-6000.0                    |0.0                    |245.889                   |\n",
      "|TOYOTA    |0.0                        |32.0                   |43.0                      |\n",
      "+----------+---------------------------+-----------------------+--------------------------+\n",
      "only showing top 20 rows\n",
      "\n"
     ]
    }
   ],
   "source": [
    "# Joindre les trois dataframes en un seul sur la colonne \"Marque\"\n",
    "merged_data = avg_bonus_malus.join(avg_co2_emission, \"Marque\", \"outer\").join(energy_cost_per_brand, \"Marque\", \"outer\")\n",
    "\n",
    "# Afficher le tableau combiné avec les moyennes arrondies à 3 chiffres après la virgule\n",
    "merged_data = merged_data.select(\n",
    "    col(\"Marque\"),\n",
    "    round(col(\"Moyenne Bonus/Malus en euro\"), 3).alias(\"Moyenne Bonus/Malus en euro\"),\n",
    "    round(col(\"Moyenne Rejets CO2 g/km\"), 3).alias(\"Moyenne Rejets CO2 g/km\"),\n",
    "    round(col(\"Cout Energie Moyen en euro\"), 3).alias(\"Cout Energie Moyen en euro\")\n",
    ")\n",
    "\n",
    "# Remplacer les valeurs NULL dans les colonnes \"Moyenne Bonus/Malus\" et \"Moyenne Rejets CO2\" par 0\n",
    "merged_data = merged_data.na.fill(0, subset=[\"Moyenne Bonus/Malus en euro\", \"Moyenne Rejets CO2 g/km\"])\n",
    "\n",
    "# Afficher le tableau combiné\n",
    "merged_data.show(truncate=False)"
   ]
  },
  {
   "cell_type": "code",
   "execution_count": 12,
   "id": "728df677-1dde-409e-b5fd-c4c1408dc68d",
   "metadata": {
    "id": "728df677-1dde-409e-b5fd-c4c1408dc68d",
    "outputId": "9ce8d4de-4c20-4f6c-e979-4c91b17fa179"
   },
   "outputs": [
    {
     "name": "stdout",
     "output_type": "stream",
     "text": [
      "Moyenne globale de Bonus/Malus (en excluant les valeurs nulles) : 6137.231\n",
      "Moyenne globale de Rejets CO2 (en excluant les valeurs égales à zéro) : 158.495\n",
      "Moyenne globale de Cout Energie : 561.465\n"
     ]
    }
   ],
   "source": [
    "# Calcul de la moyenne globale pour \"Bonus / Malus\" (en excluant les valeurs nulles)\n",
    "global_avg_bonus_malus = co2_data_cleaned.filter(col(\"Bonus / Malus\") != 0.0).agg(F.avg(\"Bonus / Malus\")).collect()[0][0]\n",
    "\n",
    "# Calcul de la moyenne globale pour \"Rejets CO2 g/km\" (en excluant les valeurs égales à zéro)\n",
    "global_avg_co2_emission = co2_data_cleaned.filter(col(\"Rejets CO2 g/km\") != 0).agg(F.avg(\"Rejets CO2 g/km\")).collect()[0][0]\n",
    "\n",
    "# Calcul de la moyenne globale pour \"Cout Energie\"\n",
    "global_avg_energy_cost = co2_data_cleaned.agg(F.avg(\"Cout Energie\")).collect()[0][0]\n",
    "\n",
    "# Formater les moyennes avec trois chiffres après la virgule\n",
    "global_avg_bonus_malus= \"{:.3f}\".format(global_avg_bonus_malus)\n",
    "global_avg_co2_emission = \"{:.3f}\".format(global_avg_co2_emission)\n",
    "global_avg_energy_cost= \"{:.3f}\".format(global_avg_energy_cost)\n",
    "\n",
    "\n",
    "# Affichage des moyennes globales\n",
    "print(\"Moyenne globale de Bonus/Malus (en excluant les valeurs nulles) :\", global_avg_bonus_malus)\n",
    "print(\"Moyenne globale de Rejets CO2 (en excluant les valeurs égales à zéro) :\", global_avg_co2_emission)\n",
    "print(\"Moyenne globale de Cout Energie :\", global_avg_energy_cost)"
   ]
  },
  {
   "cell_type": "markdown",
   "id": "7sKonHfPfXHu",
   "metadata": {
    "id": "7sKonHfPfXHu"
   },
   "source": [
    "Suivant on prépare essentiellement les données du catalogue pour la jointure avec les données combinées, en les convertissant en majuscules pour faciliter la correspondance avec les données précédemment traitées."
   ]
  },
  {
   "cell_type": "markdown",
   "id": "v0n65nK4mQZY",
   "metadata": {
    "id": "v0n65nK4mQZY"
   },
   "source": [
    "# Jointure avec Catalogue"
   ]
  },
  {
   "cell_type": "code",
   "execution_count": 13,
   "id": "c82cb433-9980-46d9-8a1c-a7ca3cbb559a",
   "metadata": {
    "id": "c82cb433-9980-46d9-8a1c-a7ca3cbb559a",
    "outputId": "596ad684-2032-4aa5-fc88-9ca221cc5f77"
   },
   "outputs": [
    {
     "name": "stdout",
     "output_type": "stream",
     "text": [
      "+----------+--------------+---------+-----------+--------+--------+-------+--------+-----+------------+\n",
      "|    marque|           nom|puissance|   longueur|nbPlaces|nbPortes|couleur|occasion| prix|marque_upper|\n",
      "+----------+--------------+---------+-----------+--------+--------+-------+--------+-----+------------+\n",
      "|     Volvo|        S80 T6|      272|très longue|       5|       5|  blanc|   false|50500|       VOLVO|\n",
      "|     Volvo|        S80 T6|      272|très longue|       5|       5|   noir|   false|50500|       VOLVO|\n",
      "|     Volvo|        S80 T6|      272|très longue|       5|       5|  rouge|   false|50500|       VOLVO|\n",
      "|     Volvo|        S80 T6|      272|très longue|       5|       5|   gris|    true|35350|       VOLVO|\n",
      "|     Volvo|        S80 T6|      272|très longue|       5|       5|   bleu|    true|35350|       VOLVO|\n",
      "|     Volvo|        S80 T6|      272|très longue|       5|       5|   gris|   false|50500|       VOLVO|\n",
      "|     Volvo|        S80 T6|      272|très longue|       5|       5|   bleu|   false|50500|       VOLVO|\n",
      "|     Volvo|        S80 T6|      272|très longue|       5|       5|  rouge|    true|35350|       VOLVO|\n",
      "|     Volvo|        S80 T6|      272|très longue|       5|       5|  blanc|    true|35350|       VOLVO|\n",
      "|     Volvo|        S80 T6|      272|très longue|       5|       5|   noir|    true|35350|       VOLVO|\n",
      "|Volkswagen|Touran 2.0 FSI|      150|     longue|       7|       5|  rouge|   false|27340|  VOLKSWAGEN|\n",
      "|Volkswagen|Touran 2.0 FSI|      150|     longue|       7|       5|   gris|    true|19138|  VOLKSWAGEN|\n",
      "|Volkswagen|Touran 2.0 FSI|      150|     longue|       7|       5|   bleu|    true|19138|  VOLKSWAGEN|\n",
      "|Volkswagen|Touran 2.0 FSI|      150|     longue|       7|       5|   gris|   false|27340|  VOLKSWAGEN|\n",
      "|Volkswagen|Touran 2.0 FSI|      150|     longue|       7|       5|   bleu|   false|27340|  VOLKSWAGEN|\n",
      "|Volkswagen|Touran 2.0 FSI|      150|     longue|       7|       5|  blanc|    true|19138|  VOLKSWAGEN|\n",
      "|Volkswagen|Touran 2.0 FSI|      150|     longue|       7|       5|   noir|    true|19138|  VOLKSWAGEN|\n",
      "|Volkswagen|Touran 2.0 FSI|      150|     longue|       7|       5|  rouge|    true|19138|  VOLKSWAGEN|\n",
      "|Volkswagen|Touran 2.0 FSI|      150|     longue|       7|       5|  blanc|   false|27340|  VOLKSWAGEN|\n",
      "|Volkswagen|Touran 2.0 FSI|      150|     longue|       7|       5|   noir|   false|27340|  VOLKSWAGEN|\n",
      "+----------+--------------+---------+-----------+--------+--------+-------+--------+-----+------------+\n",
      "only showing top 20 rows\n",
      "\n"
     ]
    }
   ],
   "source": [
    "########################################################################## Jointure avec Catalog ####################################################\"\"\"\"\n",
    "catalog_data = spark.read.csv(\"/MBDS_Projet/Catalogue.csv\", header=True,encoding=\"ISO-8859-1\")\n",
    "\n",
    "# Conversion des valeurs en majuscules\n",
    "catalog_data = catalog_data.withColumn(\"marque_upper\", upper(col(\"marque\")))\n",
    "\n",
    "catalog_data.show()"
   ]
  },
  {
   "cell_type": "markdown",
   "id": "B-ANgWYhgLil",
   "metadata": {
    "id": "B-ANgWYhgLil"
   },
   "source": [
    "On  réalise une jointure gauche entre les données du catalogue (catalog_data) et les données combinées précédemment (merged_data) sur la colonne \"Marque\".\n",
    "\n",
    "![Logo Google](https://www.postgresqltutorial.com/wp-content/uploads/2018/12/PostgreSQL-Join-Left-Join.png)\n"
   ]
  },
  {
   "cell_type": "code",
   "execution_count": 14,
   "id": "c56e839b-096d-400e-9839-37e95c761a31",
   "metadata": {
    "id": "c56e839b-096d-400e-9839-37e95c761a31",
    "outputId": "26275171-4195-48bf-f638-110d1c75c80e"
   },
   "outputs": [
    {
     "name": "stdout",
     "output_type": "stream",
     "text": [
      "+----------+--------------+---------+-----------+--------+--------+-------+--------+-----+---------------------------+-----------------------+--------------------------+\n",
      "|    marque|           nom|puissance|   longueur|nbPlaces|nbPortes|couleur|occasion| prix|Moyenne Bonus/Malus en euro|Moyenne Rejets CO2 g/km|Cout Energie Moyen en euro|\n",
      "+----------+--------------+---------+-----------+--------+--------+-------+--------+-----+---------------------------+-----------------------+--------------------------+\n",
      "|     Volvo|        S80 T6|      272|très longue|       5|       5|  blanc|   false|50500|                        0.0|                 42.455|                    72.727|\n",
      "|     Volvo|        S80 T6|      272|très longue|       5|       5|   noir|   false|50500|                        0.0|                 42.455|                    72.727|\n",
      "|     Volvo|        S80 T6|      272|très longue|       5|       5|  rouge|   false|50500|                        0.0|                 42.455|                    72.727|\n",
      "|     Volvo|        S80 T6|      272|très longue|       5|       5|   gris|    true|35350|                        0.0|                 42.455|                    72.727|\n",
      "|     Volvo|        S80 T6|      272|très longue|       5|       5|   bleu|    true|35350|                        0.0|                 42.455|                    72.727|\n",
      "|     Volvo|        S80 T6|      272|très longue|       5|       5|   gris|   false|50500|                        0.0|                 42.455|                    72.727|\n",
      "|     Volvo|        S80 T6|      272|très longue|       5|       5|   bleu|   false|50500|                        0.0|                 42.455|                    72.727|\n",
      "|     Volvo|        S80 T6|      272|très longue|       5|       5|  rouge|    true|35350|                        0.0|                 42.455|                    72.727|\n",
      "|     Volvo|        S80 T6|      272|très longue|       5|       5|  blanc|    true|35350|                        0.0|                 42.455|                    72.727|\n",
      "|     Volvo|        S80 T6|      272|très longue|       5|       5|   noir|    true|35350|                        0.0|                 42.455|                    72.727|\n",
      "|Volkswagen|Touran 2.0 FSI|      150|     longue|       7|       5|  rouge|   false|27340|                    -6000.0|                   32.8|                      96.0|\n",
      "|Volkswagen|Touran 2.0 FSI|      150|     longue|       7|       5|   gris|    true|19138|                    -6000.0|                   32.8|                      96.0|\n",
      "|Volkswagen|Touran 2.0 FSI|      150|     longue|       7|       5|   bleu|    true|19138|                    -6000.0|                   32.8|                      96.0|\n",
      "|Volkswagen|Touran 2.0 FSI|      150|     longue|       7|       5|   gris|   false|27340|                    -6000.0|                   32.8|                      96.0|\n",
      "|Volkswagen|Touran 2.0 FSI|      150|     longue|       7|       5|   bleu|   false|27340|                    -6000.0|                   32.8|                      96.0|\n",
      "|Volkswagen|Touran 2.0 FSI|      150|     longue|       7|       5|  blanc|    true|19138|                    -6000.0|                   32.8|                      96.0|\n",
      "|Volkswagen|Touran 2.0 FSI|      150|     longue|       7|       5|   noir|    true|19138|                    -6000.0|                   32.8|                      96.0|\n",
      "|Volkswagen|Touran 2.0 FSI|      150|     longue|       7|       5|  rouge|    true|19138|                    -6000.0|                   32.8|                      96.0|\n",
      "|Volkswagen|Touran 2.0 FSI|      150|     longue|       7|       5|  blanc|   false|27340|                    -6000.0|                   32.8|                      96.0|\n",
      "|Volkswagen|Touran 2.0 FSI|      150|     longue|       7|       5|   noir|   false|27340|                    -6000.0|                   32.8|                      96.0|\n",
      "+----------+--------------+---------+-----------+--------+--------+-------+--------+-----+---------------------------+-----------------------+--------------------------+\n",
      "only showing top 20 rows\n",
      "\n"
     ]
    }
   ],
   "source": [
    "# Left join entre catalog_data et merged_data par la colonne \"Marque\"\n",
    "joined_data = catalog_data.join(merged_data, catalog_data[\"marque_upper\"] == merged_data[\"Marque\"], \"left\").drop(merged_data[\"Marque\"])\n",
    "\n",
    "# Supprimer la colonne \"marque_upper\"\n",
    "joined_data = joined_data.drop(\"marque_upper\")\n",
    "\n",
    "joined_data.show()"
   ]
  },
  {
   "cell_type": "markdown",
   "id": "MpMhS-M6getT",
   "metadata": {
    "id": "MpMhS-M6getT"
   },
   "source": [
    "On remplace les valeurs nulles dans le DataFrame joined_data par les moyennes globales calculées précédemment. Voici ce qui se passe ligne par ligne :\n",
    "\n",
    " La méthode fillna() est utilisée pour remplacer les valeurs nulles dans le DataFrame joined_data.\n",
    " Un dictionnaire est fourni en tant qu'argument à fillna(), où chaque clé correspond à une colonne à remplir et chaque valeur correspond à la valeur de remplacement. Dans ce cas, les colonnes \"Moyenne Bonus/Malus en euro\", \"Moyenne Rejets CO2 g/km\" et \"Cout Energie Moyen en euro\" sont remplacées par leurs valeurs moyennes globales respectives (global_avg_bonus_malus, global_avg_co2_emission et global_avg_energy_cost).\n",
    "\n",
    "Une fois que les valeurs nulles ont été remplacées, les données résultantes sont affichées à l'aide de la méthode show(). Cela permet de visualiser les données nettoyées et complétées, prêtes à être utilisées pour l'analyse ou le traitement ultérieur."
   ]
  },
  {
   "cell_type": "code",
   "execution_count": 15,
   "id": "ca1878fe-654f-4d44-b522-c59bcdc425d0",
   "metadata": {
    "id": "ca1878fe-654f-4d44-b522-c59bcdc425d0",
    "outputId": "9b44f399-841e-4d0d-fba5-757f6708fde9"
   },
   "outputs": [
    {
     "name": "stdout",
     "output_type": "stream",
     "text": [
      "+----------+--------------+---------+-----------+--------+--------+-------+--------+-----+---------------------------+-----------------------+--------------------------+\n",
      "|    marque|           nom|puissance|   longueur|nbPlaces|nbPortes|couleur|occasion| prix|Moyenne Bonus/Malus en euro|Moyenne Rejets CO2 g/km|Cout Energie Moyen en euro|\n",
      "+----------+--------------+---------+-----------+--------+--------+-------+--------+-----+---------------------------+-----------------------+--------------------------+\n",
      "|     Volvo|        S80 T6|      272|très longue|       5|       5|  blanc|   false|50500|                        0.0|                 42.455|                    72.727|\n",
      "|     Volvo|        S80 T6|      272|très longue|       5|       5|   noir|   false|50500|                        0.0|                 42.455|                    72.727|\n",
      "|     Volvo|        S80 T6|      272|très longue|       5|       5|  rouge|   false|50500|                        0.0|                 42.455|                    72.727|\n",
      "|     Volvo|        S80 T6|      272|très longue|       5|       5|   gris|    true|35350|                        0.0|                 42.455|                    72.727|\n",
      "|     Volvo|        S80 T6|      272|très longue|       5|       5|   bleu|    true|35350|                        0.0|                 42.455|                    72.727|\n",
      "|     Volvo|        S80 T6|      272|très longue|       5|       5|   gris|   false|50500|                        0.0|                 42.455|                    72.727|\n",
      "|     Volvo|        S80 T6|      272|très longue|       5|       5|   bleu|   false|50500|                        0.0|                 42.455|                    72.727|\n",
      "|     Volvo|        S80 T6|      272|très longue|       5|       5|  rouge|    true|35350|                        0.0|                 42.455|                    72.727|\n",
      "|     Volvo|        S80 T6|      272|très longue|       5|       5|  blanc|    true|35350|                        0.0|                 42.455|                    72.727|\n",
      "|     Volvo|        S80 T6|      272|très longue|       5|       5|   noir|    true|35350|                        0.0|                 42.455|                    72.727|\n",
      "|Volkswagen|Touran 2.0 FSI|      150|     longue|       7|       5|  rouge|   false|27340|                    -6000.0|                   32.8|                      96.0|\n",
      "|Volkswagen|Touran 2.0 FSI|      150|     longue|       7|       5|   gris|    true|19138|                    -6000.0|                   32.8|                      96.0|\n",
      "|Volkswagen|Touran 2.0 FSI|      150|     longue|       7|       5|   bleu|    true|19138|                    -6000.0|                   32.8|                      96.0|\n",
      "|Volkswagen|Touran 2.0 FSI|      150|     longue|       7|       5|   gris|   false|27340|                    -6000.0|                   32.8|                      96.0|\n",
      "|Volkswagen|Touran 2.0 FSI|      150|     longue|       7|       5|   bleu|   false|27340|                    -6000.0|                   32.8|                      96.0|\n",
      "|Volkswagen|Touran 2.0 FSI|      150|     longue|       7|       5|  blanc|    true|19138|                    -6000.0|                   32.8|                      96.0|\n",
      "|Volkswagen|Touran 2.0 FSI|      150|     longue|       7|       5|   noir|    true|19138|                    -6000.0|                   32.8|                      96.0|\n",
      "|Volkswagen|Touran 2.0 FSI|      150|     longue|       7|       5|  rouge|    true|19138|                    -6000.0|                   32.8|                      96.0|\n",
      "|Volkswagen|Touran 2.0 FSI|      150|     longue|       7|       5|  blanc|   false|27340|                    -6000.0|                   32.8|                      96.0|\n",
      "|Volkswagen|Touran 2.0 FSI|      150|     longue|       7|       5|   noir|   false|27340|                    -6000.0|                   32.8|                      96.0|\n",
      "+----------+--------------+---------+-----------+--------+--------+-------+--------+-----+---------------------------+-----------------------+--------------------------+\n",
      "only showing top 20 rows\n",
      "\n"
     ]
    }
   ],
   "source": [
    "# Remplacer les valeurs NULL par les moyennes globales\n",
    "joined_data = joined_data.fillna({\n",
    "    \"Moyenne Bonus/Malus en euro\": global_avg_bonus_malus,\n",
    "    \"Moyenne Rejets CO2 g/km\": global_avg_co2_emission,\n",
    "    \"Cout Energie Moyen en euro\": global_avg_energy_cost\n",
    "})\n",
    "\n",
    "# Afficher les données résultantes\n",
    "joined_data.show()"
   ]
  },
  {
   "cell_type": "code",
   "execution_count": 16,
   "id": "d63eb342-d224-45a4-bca8-5e689af49e12",
   "metadata": {
    "id": "d63eb342-d224-45a4-bca8-5e689af49e12",
    "outputId": "c8535977-34f7-4a89-cedd-8ba38d53a8fe"
   },
   "outputs": [
    {
     "name": "stdout",
     "output_type": "stream",
     "text": [
      "Nombre total de lignes dans joined_data : 270\n"
     ]
    }
   ],
   "source": [
    "# Compter le nombre de lignes\n",
    "nombre_de_lignes = joined_data.count()\n",
    "\n",
    "print(\"Nombre total de lignes dans joined_data :\", nombre_de_lignes)"
   ]
  },
  {
   "cell_type": "code",
   "execution_count": 17,
   "id": "8ec0df90-71eb-4bc6-b30d-868e7dbf6978",
   "metadata": {
    "id": "8ec0df90-71eb-4bc6-b30d-868e7dbf6978",
    "outputId": "af569a4f-fad4-4b56-da81-32191da3c9d2"
   },
   "outputs": [
    {
     "name": "stdout",
     "output_type": "stream",
     "text": [
      "+----------+----------------+---------+-----------+--------+--------+-------+--------+------+---------------------------+-----------------------+--------------------------+\n",
      "|    marque|             nom|puissance|   longueur|nbPlaces|nbPortes|couleur|occasion|  prix|Moyenne Bonus/Malus en euro|Moyenne Rejets CO2 g/km|Cout Energie Moyen en euro|\n",
      "+----------+----------------+---------+-----------+--------+--------+-------+--------+------+---------------------------+-----------------------+--------------------------+\n",
      "|     Volvo|          S80 T6|      272|très longue|       5|       5|  blanc|   false| 50500|                        0.0|                 42.455|                    72.727|\n",
      "|     Volvo|          S80 T6|      272|très longue|       5|       5|   noir|   false| 50500|                        0.0|                 42.455|                    72.727|\n",
      "|     Volvo|          S80 T6|      272|très longue|       5|       5|  rouge|   false| 50500|                        0.0|                 42.455|                    72.727|\n",
      "|     Volvo|          S80 T6|      272|très longue|       5|       5|   gris|    true| 35350|                        0.0|                 42.455|                    72.727|\n",
      "|     Volvo|          S80 T6|      272|très longue|       5|       5|   bleu|    true| 35350|                        0.0|                 42.455|                    72.727|\n",
      "|     Volvo|          S80 T6|      272|très longue|       5|       5|   gris|   false| 50500|                        0.0|                 42.455|                    72.727|\n",
      "|     Volvo|          S80 T6|      272|très longue|       5|       5|   bleu|   false| 50500|                        0.0|                 42.455|                    72.727|\n",
      "|     Volvo|          S80 T6|      272|très longue|       5|       5|  rouge|    true| 35350|                        0.0|                 42.455|                    72.727|\n",
      "|     Volvo|          S80 T6|      272|très longue|       5|       5|  blanc|    true| 35350|                        0.0|                 42.455|                    72.727|\n",
      "|     Volvo|          S80 T6|      272|très longue|       5|       5|   noir|    true| 35350|                        0.0|                 42.455|                    72.727|\n",
      "|Volkswagen|  Touran 2.0 FSI|      150|     longue|       7|       5|  rouge|   false| 27340|                    -6000.0|                   32.8|                      96.0|\n",
      "|Volkswagen|  Touran 2.0 FSI|      150|     longue|       7|       5|   gris|    true| 19138|                    -6000.0|                   32.8|                      96.0|\n",
      "|Volkswagen|  Touran 2.0 FSI|      150|     longue|       7|       5|   bleu|    true| 19138|                    -6000.0|                   32.8|                      96.0|\n",
      "|Volkswagen|  Touran 2.0 FSI|      150|     longue|       7|       5|   gris|   false| 27340|                    -6000.0|                   32.8|                      96.0|\n",
      "|Volkswagen|  Touran 2.0 FSI|      150|     longue|       7|       5|   bleu|   false| 27340|                    -6000.0|                   32.8|                      96.0|\n",
      "|Volkswagen|  Touran 2.0 FSI|      150|     longue|       7|       5|  blanc|    true| 19138|                    -6000.0|                   32.8|                      96.0|\n",
      "|Volkswagen|  Touran 2.0 FSI|      150|     longue|       7|       5|   noir|    true| 19138|                    -6000.0|                   32.8|                      96.0|\n",
      "|Volkswagen|  Touran 2.0 FSI|      150|     longue|       7|       5|  rouge|    true| 19138|                    -6000.0|                   32.8|                      96.0|\n",
      "|Volkswagen|  Touran 2.0 FSI|      150|     longue|       7|       5|  blanc|   false| 27340|                    -6000.0|                   32.8|                      96.0|\n",
      "|Volkswagen|  Touran 2.0 FSI|      150|     longue|       7|       5|   noir|   false| 27340|                    -6000.0|                   32.8|                      96.0|\n",
      "|Volkswagen|     Polo 1.2 6V|       55|     courte|       5|       3|  blanc|    true|  8540|                    -6000.0|                   32.8|                      96.0|\n",
      "|Volkswagen|     Polo 1.2 6V|       55|     courte|       5|       3|  blanc|   false| 12200|                    -6000.0|                   32.8|                      96.0|\n",
      "|Volkswagen|     Polo 1.2 6V|       55|     courte|       5|       3|   noir|   false| 12200|                    -6000.0|                   32.8|                      96.0|\n",
      "|Volkswagen|     Polo 1.2 6V|       55|     courte|       5|       3|   noir|    true|  8540|                    -6000.0|                   32.8|                      96.0|\n",
      "|Volkswagen|     Polo 1.2 6V|       55|     courte|       5|       3|   bleu|    true|  8540|                    -6000.0|                   32.8|                      96.0|\n",
      "|Volkswagen|     Polo 1.2 6V|       55|     courte|       5|       3|   bleu|   false| 12200|                    -6000.0|                   32.8|                      96.0|\n",
      "|Volkswagen|     Polo 1.2 6V|       55|     courte|       5|       3|  rouge|    true|  8540|                    -6000.0|                   32.8|                      96.0|\n",
      "|Volkswagen|     Polo 1.2 6V|       55|     courte|       5|       3|  rouge|   false| 12200|                    -6000.0|                   32.8|                      96.0|\n",
      "|Volkswagen|     Polo 1.2 6V|       55|     courte|       5|       3|   gris|   false| 12200|                    -6000.0|                   32.8|                      96.0|\n",
      "|Volkswagen|     Polo 1.2 6V|       55|     courte|       5|       3|   gris|    true|  8540|                    -6000.0|                   32.8|                      96.0|\n",
      "|Volkswagen|  New Beatle 1.8|      110|    moyenne|       5|       5|  blanc|    true| 18641|                    -6000.0|                   32.8|                      96.0|\n",
      "|Volkswagen|  New Beatle 1.8|      110|    moyenne|       5|       5|   noir|    true| 18641|                    -6000.0|                   32.8|                      96.0|\n",
      "|Volkswagen|  New Beatle 1.8|      110|    moyenne|       5|       5|  rouge|    true| 18641|                    -6000.0|                   32.8|                      96.0|\n",
      "|Volkswagen|  New Beatle 1.8|      110|    moyenne|       5|       5|   gris|    true| 18641|                    -6000.0|                   32.8|                      96.0|\n",
      "|Volkswagen|  New Beatle 1.8|      110|    moyenne|       5|       5|   bleu|    true| 18641|                    -6000.0|                   32.8|                      96.0|\n",
      "|Volkswagen|  New Beatle 1.8|      110|    moyenne|       5|       5|  rouge|   false| 26630|                    -6000.0|                   32.8|                      96.0|\n",
      "|Volkswagen|  New Beatle 1.8|      110|    moyenne|       5|       5|   gris|   false| 26630|                    -6000.0|                   32.8|                      96.0|\n",
      "|Volkswagen|  New Beatle 1.8|      110|    moyenne|       5|       5|   bleu|   false| 26630|                    -6000.0|                   32.8|                      96.0|\n",
      "|Volkswagen|  New Beatle 1.8|      110|    moyenne|       5|       5|  blanc|   false| 26630|                    -6000.0|                   32.8|                      96.0|\n",
      "|Volkswagen|  New Beatle 1.8|      110|    moyenne|       5|       5|   noir|   false| 26630|                    -6000.0|                   32.8|                      96.0|\n",
      "|Volkswagen|    Golf 2.0 FSI|      150|    moyenne|       5|       5|  rouge|    true| 16029|                    -6000.0|                   32.8|                      96.0|\n",
      "|Volkswagen|    Golf 2.0 FSI|      150|    moyenne|       5|       5|   gris|    true| 16029|                    -6000.0|                   32.8|                      96.0|\n",
      "|Volkswagen|    Golf 2.0 FSI|      150|    moyenne|       5|       5|   bleu|    true| 16029|                    -6000.0|                   32.8|                      96.0|\n",
      "|Volkswagen|    Golf 2.0 FSI|      150|    moyenne|       5|       5|  blanc|    true| 16029|                    -6000.0|                   32.8|                      96.0|\n",
      "|Volkswagen|    Golf 2.0 FSI|      150|    moyenne|       5|       5|   noir|    true| 16029|                    -6000.0|                   32.8|                      96.0|\n",
      "|Volkswagen|    Golf 2.0 FSI|      150|    moyenne|       5|       5|  blanc|   false| 22900|                    -6000.0|                   32.8|                      96.0|\n",
      "|Volkswagen|    Golf 2.0 FSI|      150|    moyenne|       5|       5|   noir|   false| 22900|                    -6000.0|                   32.8|                      96.0|\n",
      "|Volkswagen|    Golf 2.0 FSI|      150|    moyenne|       5|       5|   bleu|   false| 22900|                    -6000.0|                   32.8|                      96.0|\n",
      "|Volkswagen|    Golf 2.0 FSI|      150|    moyenne|       5|       5|  rouge|   false| 22900|                    -6000.0|                   32.8|                      96.0|\n",
      "|Volkswagen|    Golf 2.0 FSI|      150|    moyenne|       5|       5|   gris|   false| 22900|                    -6000.0|                   32.8|                      96.0|\n",
      "|     Skoda|   Superb 2.8 V6|      193|très longue|       5|       5|  rouge|   false| 31790|                    -6000.0|                   31.0|                    98.889|\n",
      "|     Skoda|   Superb 2.8 V6|      193|très longue|       5|       5|   gris|   false| 31790|                    -6000.0|                   31.0|                    98.889|\n",
      "|     Skoda|   Superb 2.8 V6|      193|très longue|       5|       5|   bleu|   false| 31790|                    -6000.0|                   31.0|                    98.889|\n",
      "|     Skoda|   Superb 2.8 V6|      193|très longue|       5|       5|   noir|   false| 31790|                    -6000.0|                   31.0|                    98.889|\n",
      "|     Skoda|   Superb 2.8 V6|      193|très longue|       5|       5|  blanc|   false| 31790|                    -6000.0|                   31.0|                    98.889|\n",
      "|      Seat|      Toledo 1.6|      102|     longue|       5|       5|  blanc|   false| 18880|                   6137.231|                158.495|                   561.465|\n",
      "|      Seat|      Toledo 1.6|      102|     longue|       5|       5|   noir|   false| 18880|                   6137.231|                158.495|                   561.465|\n",
      "|      Seat|      Toledo 1.6|      102|     longue|       5|       5|  rouge|   false| 18880|                   6137.231|                158.495|                   561.465|\n",
      "|      Seat|      Toledo 1.6|      102|     longue|       5|       5|   gris|   false| 18880|                   6137.231|                158.495|                   561.465|\n",
      "|      Seat|      Toledo 1.6|      102|     longue|       5|       5|   bleu|   false| 18880|                   6137.231|                158.495|                   561.465|\n",
      "|      Saab|        9.3 1.8T|      150|     longue|       5|       5|  blanc|    true| 27020|                   6137.231|                158.495|                   561.465|\n",
      "|      Saab|        9.3 1.8T|      150|     longue|       5|       5|  rouge|    true| 27020|                   6137.231|                158.495|                   561.465|\n",
      "|      Saab|        9.3 1.8T|      150|     longue|       5|       5|   gris|    true| 27020|                   6137.231|                158.495|                   561.465|\n",
      "|      Saab|        9.3 1.8T|      150|     longue|       5|       5|   bleu|    true| 27020|                   6137.231|                158.495|                   561.465|\n",
      "|      Saab|        9.3 1.8T|      150|     longue|       5|       5|   noir|    true| 27020|                   6137.231|                158.495|                   561.465|\n",
      "|      Saab|        9.3 1.8T|      150|     longue|       5|       5|   gris|   false| 38600|                   6137.231|                158.495|                   561.465|\n",
      "|      Saab|        9.3 1.8T|      150|     longue|       5|       5|   bleu|   false| 38600|                   6137.231|                158.495|                   561.465|\n",
      "|      Saab|        9.3 1.8T|      150|     longue|       5|       5|   noir|   false| 38600|                   6137.231|                158.495|                   561.465|\n",
      "|      Saab|        9.3 1.8T|      150|     longue|       5|       5|  rouge|   false| 38600|                   6137.231|                158.495|                   561.465|\n",
      "|      Saab|        9.3 1.8T|      150|     longue|       5|       5|  blanc|   false| 38600|                   6137.231|                158.495|                   561.465|\n",
      "|   Renault|Vel Satis 3.5 V6|      245|très longue|       5|       5|   gris|    true| 34440|                    -6000.0|                    0.0|                     206.0|\n",
      "|   Renault|Vel Satis 3.5 V6|      245|très longue|       5|       5|   noir|    true| 34440|                    -6000.0|                    0.0|                     206.0|\n",
      "|   Renault|Vel Satis 3.5 V6|      245|très longue|       5|       5|   bleu|    true| 34440|                    -6000.0|                    0.0|                     206.0|\n",
      "|   Renault|Vel Satis 3.5 V6|      245|très longue|       5|       5|  rouge|    true| 34440|                    -6000.0|                    0.0|                     206.0|\n",
      "|   Renault|Vel Satis 3.5 V6|      245|très longue|       5|       5|  blanc|    true| 34440|                    -6000.0|                    0.0|                     206.0|\n",
      "|   Renault|Vel Satis 3.5 V6|      245|très longue|       5|       5|   gris|   false| 49200|                    -6000.0|                    0.0|                     206.0|\n",
      "|   Renault|Vel Satis 3.5 V6|      245|très longue|       5|       5|   bleu|   false| 49200|                    -6000.0|                    0.0|                     206.0|\n",
      "|   Renault|Vel Satis 3.5 V6|      245|très longue|       5|       5|  blanc|   false| 49200|                    -6000.0|                    0.0|                     206.0|\n",
      "|   Renault|Vel Satis 3.5 V6|      245|très longue|       5|       5|   noir|   false| 49200|                    -6000.0|                    0.0|                     206.0|\n",
      "|   Renault|Vel Satis 3.5 V6|      245|très longue|       5|       5|  rouge|   false| 49200|                    -6000.0|                    0.0|                     206.0|\n",
      "|   Renault|  Megane 2.0 16V|      135|    moyenne|       5|       5|   gris|    true| 15644|                    -6000.0|                    0.0|                     206.0|\n",
      "|   Renault|  Megane 2.0 16V|      135|    moyenne|       5|       5|   bleu|    true| 15644|                    -6000.0|                    0.0|                     206.0|\n",
      "|   Renault|  Megane 2.0 16V|      135|    moyenne|       5|       5|  rouge|    true| 15644|                    -6000.0|                    0.0|                     206.0|\n",
      "|   Renault|  Megane 2.0 16V|      135|    moyenne|       5|       5|  blanc|    true| 15644|                    -6000.0|                    0.0|                     206.0|\n",
      "|   Renault|  Megane 2.0 16V|      135|    moyenne|       5|       5|   noir|    true| 15644|                    -6000.0|                    0.0|                     206.0|\n",
      "|   Renault|  Megane 2.0 16V|      135|    moyenne|       5|       5|   gris|   false| 22350|                    -6000.0|                    0.0|                     206.0|\n",
      "|   Renault|  Megane 2.0 16V|      135|    moyenne|       5|       5|   bleu|   false| 22350|                    -6000.0|                    0.0|                     206.0|\n",
      "|   Renault|  Megane 2.0 16V|      135|    moyenne|       5|       5|  blanc|   false| 22350|                    -6000.0|                    0.0|                     206.0|\n",
      "|   Renault|  Megane 2.0 16V|      135|    moyenne|       5|       5|   noir|   false| 22350|                    -6000.0|                    0.0|                     206.0|\n",
      "|   Renault|  Megane 2.0 16V|      135|    moyenne|       5|       5|  rouge|   false| 22350|                    -6000.0|                    0.0|                     206.0|\n",
      "|   Renault|     Laguna 2.0T|      170|     longue|       5|       5|  rouge|    true| 19110|                    -6000.0|                    0.0|                     206.0|\n",
      "|   Renault|     Laguna 2.0T|      170|     longue|       5|       5|   gris|    true| 19110|                    -6000.0|                    0.0|                     206.0|\n",
      "|   Renault|     Laguna 2.0T|      170|     longue|       5|       5|   bleu|    true| 19110|                    -6000.0|                    0.0|                     206.0|\n",
      "|   Renault|     Laguna 2.0T|      170|     longue|       5|       5|  blanc|    true| 19110|                    -6000.0|                    0.0|                     206.0|\n",
      "|   Renault|     Laguna 2.0T|      170|     longue|       5|       5|   noir|    true| 19110|                    -6000.0|                    0.0|                     206.0|\n",
      "|   Renault|     Laguna 2.0T|      170|     longue|       5|       5|   gris|   false| 27300|                    -6000.0|                    0.0|                     206.0|\n",
      "|   Renault|     Laguna 2.0T|      170|     longue|       5|       5|   bleu|   false| 27300|                    -6000.0|                    0.0|                     206.0|\n",
      "|   Renault|     Laguna 2.0T|      170|     longue|       5|       5|  rouge|   false| 27300|                    -6000.0|                    0.0|                     206.0|\n",
      "|   Renault|     Laguna 2.0T|      170|     longue|       5|       5|   noir|   false| 27300|                    -6000.0|                    0.0|                     206.0|\n",
      "|   Renault|     Laguna 2.0T|      170|     longue|       5|       5|  blanc|   false| 27300|                    -6000.0|                    0.0|                     206.0|\n",
      "|   Renault|     Espace 2.0T|      165|     longue|       7|       5|   gris|    true| 21245|                    -6000.0|                    0.0|                     206.0|\n",
      "|   Renault|     Espace 2.0T|      165|     longue|       7|       5|   bleu|    true| 21245|                    -6000.0|                    0.0|                     206.0|\n",
      "|   Renault|     Espace 2.0T|      165|     longue|       7|       5|   noir|    true| 21245|                    -6000.0|                    0.0|                     206.0|\n",
      "|   Renault|     Espace 2.0T|      165|     longue|       7|       5|  rouge|    true| 21245|                    -6000.0|                    0.0|                     206.0|\n",
      "|   Renault|     Espace 2.0T|      165|     longue|       7|       5|  blanc|    true| 21245|                    -6000.0|                    0.0|                     206.0|\n",
      "|   Renault|     Espace 2.0T|      165|     longue|       7|       5|   noir|   false| 30350|                    -6000.0|                    0.0|                     206.0|\n",
      "|   Renault|     Espace 2.0T|      165|     longue|       7|       5|   bleu|   false| 30350|                    -6000.0|                    0.0|                     206.0|\n",
      "|   Renault|     Espace 2.0T|      165|     longue|       7|       5|  rouge|   false| 30350|                    -6000.0|                    0.0|                     206.0|\n",
      "|   Renault|     Espace 2.0T|      165|     longue|       7|       5|  blanc|   false| 30350|                    -6000.0|                    0.0|                     206.0|\n",
      "|   Renault|     Espace 2.0T|      165|     longue|       7|       5|   gris|   false| 30350|                    -6000.0|                    0.0|                     206.0|\n",
      "|   Peugeot|        1007 1.4|       75|     courte|       5|       5|  rouge|    true|  9625|                    -6000.0|                 31.667|                   144.167|\n",
      "|   Peugeot|        1007 1.4|       75|     courte|       5|       5|   noir|   false| 13750|                    -6000.0|                 31.667|                   144.167|\n",
      "|   Peugeot|        1007 1.4|       75|     courte|       5|       5|   gris|   false| 13750|                    -6000.0|                 31.667|                   144.167|\n",
      "|   Peugeot|        1007 1.4|       75|     courte|       5|       5|  blanc|    true|  9625|                    -6000.0|                 31.667|                   144.167|\n",
      "|   Peugeot|        1007 1.4|       75|     courte|       5|       5|  rouge|   false| 13750|                    -6000.0|                 31.667|                   144.167|\n",
      "|   Peugeot|        1007 1.4|       75|     courte|       5|       5|   gris|    true|  9625|                    -6000.0|                 31.667|                   144.167|\n",
      "|   Peugeot|        1007 1.4|       75|     courte|       5|       5|  blanc|   false| 13750|                    -6000.0|                 31.667|                   144.167|\n",
      "|   Peugeot|        1007 1.4|       75|     courte|       5|       5|   bleu|    true|  9625|                    -6000.0|                 31.667|                   144.167|\n",
      "|   Peugeot|        1007 1.4|       75|     courte|       5|       5|   noir|    true|  9625|                    -6000.0|                 31.667|                   144.167|\n",
      "|   Peugeot|        1007 1.4|       75|     courte|       5|       5|   bleu|   false| 13750|                    -6000.0|                 31.667|                   144.167|\n",
      "|    Nissan|     Primera 1.6|      109|     longue|       5|       5|   noir|   false| 18650|                     5802.4|                  200.0|                     681.2|\n",
      "|    Nissan|     Primera 1.6|      109|     longue|       5|       5|   bleu|   false| 18650|                     5802.4|                  200.0|                     681.2|\n",
      "|    Nissan|     Primera 1.6|      109|     longue|       5|       5|  rouge|   false| 18650|                     5802.4|                  200.0|                     681.2|\n",
      "|    Nissan|     Primera 1.6|      109|     longue|       5|       5|   gris|   false| 18650|                     5802.4|                  200.0|                     681.2|\n",
      "|    Nissan|     Primera 1.6|      109|     longue|       5|       5|  blanc|   false| 18650|                     5802.4|                  200.0|                     681.2|\n",
      "|    Nissan|   Maxima 3.0 V6|      200|très longue|       5|       5|   noir|   false| 30000|                     5802.4|                  200.0|                     681.2|\n",
      "|    Nissan|   Maxima 3.0 V6|      200|très longue|       5|       5|   gris|   false| 30000|                     5802.4|                  200.0|                     681.2|\n",
      "|    Nissan|   Maxima 3.0 V6|      200|très longue|       5|       5|   bleu|   false| 30000|                     5802.4|                  200.0|                     681.2|\n",
      "|    Nissan|   Maxima 3.0 V6|      200|très longue|       5|       5|  rouge|   false| 30000|                     5802.4|                  200.0|                     681.2|\n",
      "|    Nissan|   Maxima 3.0 V6|      200|très longue|       5|       5|  blanc|   false| 30000|                     5802.4|                  200.0|                     681.2|\n",
      "|    Nissan|      Almera 1.8|      115|    moyenne|       5|       5|   gris|   false| 16450|                     5802.4|                  200.0|                     681.2|\n",
      "|    Nissan|      Almera 1.8|      115|    moyenne|       5|       5|   bleu|   false| 16450|                     5802.4|                  200.0|                     681.2|\n",
      "|    Nissan|      Almera 1.8|      115|    moyenne|       5|       5|   noir|   false| 16450|                     5802.4|                  200.0|                     681.2|\n",
      "|    Nissan|      Almera 1.8|      115|    moyenne|       5|       5|  rouge|   false| 16450|                     5802.4|                  200.0|                     681.2|\n",
      "|    Nissan|      Almera 1.8|      115|    moyenne|       5|       5|  blanc|   false| 16450|                     5802.4|                  200.0|                     681.2|\n",
      "|      Mini|  Copper 1.6 16V|      115|     courte|       5|       5|   gris|    true| 12740|                    -6000.0|                   43.0|                     126.0|\n",
      "|      Mini|  Copper 1.6 16V|      115|     courte|       5|       5|   bleu|    true| 12740|                    -6000.0|                   43.0|                     126.0|\n",
      "|      Mini|  Copper 1.6 16V|      115|     courte|       5|       5|  rouge|    true| 12740|                    -6000.0|                   43.0|                     126.0|\n",
      "|      Mini|  Copper 1.6 16V|      115|     courte|       5|       5|   noir|    true| 12740|                    -6000.0|                   43.0|                     126.0|\n",
      "|      Mini|  Copper 1.6 16V|      115|     courte|       5|       5|  blanc|    true| 12740|                    -6000.0|                   43.0|                     126.0|\n",
      "|      Mini|  Copper 1.6 16V|      115|     courte|       5|       5|   gris|   false| 18200|                    -6000.0|                   43.0|                     126.0|\n",
      "|      Mini|  Copper 1.6 16V|      115|     courte|       5|       5|   bleu|   false| 18200|                    -6000.0|                   43.0|                     126.0|\n",
      "|      Mini|  Copper 1.6 16V|      115|     courte|       5|       5|  rouge|   false| 18200|                    -6000.0|                   43.0|                     126.0|\n",
      "|      Mini|  Copper 1.6 16V|      115|     courte|       5|       5|   noir|   false| 18200|                    -6000.0|                   43.0|                     126.0|\n",
      "|      Mini|  Copper 1.6 16V|      115|     courte|       5|       5|  blanc|   false| 18200|                    -6000.0|                   43.0|                     126.0|\n",
      "|  Mercedes|            S500|      306|très longue|       5|       5|   noir|    true| 70910|                   8237.358|                189.555|                    749.98|\n",
      "|  Mercedes|            S500|      306|très longue|       5|       5|   bleu|    true| 70910|                   8237.358|                189.555|                    749.98|\n",
      "|  Mercedes|            S500|      306|très longue|       5|       5|  rouge|    true| 70910|                   8237.358|                189.555|                    749.98|\n",
      "|  Mercedes|            S500|      306|très longue|       5|       5|  blanc|    true| 70910|                   8237.358|                189.555|                    749.98|\n",
      "|  Mercedes|            S500|      306|très longue|       5|       5|   bleu|   false|101300|                   8237.358|                189.555|                    749.98|\n",
      "|  Mercedes|            S500|      306|très longue|       5|       5|   gris|    true| 70910|                   8237.358|                189.555|                    749.98|\n",
      "|  Mercedes|            S500|      306|très longue|       5|       5|   noir|   false|101300|                   8237.358|                189.555|                    749.98|\n",
      "|  Mercedes|            S500|      306|très longue|       5|       5|  blanc|   false|101300|                   8237.358|                189.555|                    749.98|\n",
      "|  Mercedes|            S500|      306|très longue|       5|       5|  rouge|   false|101300|                   8237.358|                189.555|                    749.98|\n",
      "|  Mercedes|            S500|      306|très longue|       5|       5|   gris|   false|101300|                   8237.358|                189.555|                    749.98|\n",
      "|  Mercedes|            A200|      136|    moyenne|       5|       5|  blanc|   false| 25900|                   8237.358|                189.555|                    749.98|\n",
      "|  Mercedes|            A200|      136|    moyenne|       5|       5|   noir|   false| 25900|                   8237.358|                189.555|                    749.98|\n",
      "|  Mercedes|            A200|      136|    moyenne|       5|       5|  blanc|    true| 18130|                   8237.358|                189.555|                    749.98|\n",
      "|  Mercedes|            A200|      136|    moyenne|       5|       5|  rouge|    true| 18130|                   8237.358|                189.555|                    749.98|\n",
      "|  Mercedes|            A200|      136|    moyenne|       5|       5|   noir|    true| 18130|                   8237.358|                189.555|                    749.98|\n",
      "|  Mercedes|            A200|      136|    moyenne|       5|       5|  rouge|   false| 25900|                   8237.358|                189.555|                    749.98|\n",
      "|  Mercedes|            A200|      136|    moyenne|       5|       5|   bleu|    true| 18130|                   8237.358|                189.555|                    749.98|\n",
      "|  Mercedes|            A200|      136|    moyenne|       5|       5|   gris|    true| 18130|                   8237.358|                189.555|                    749.98|\n",
      "|  Mercedes|            A200|      136|    moyenne|       5|       5|   gris|   false| 25900|                   8237.358|                189.555|                    749.98|\n",
      "|  Mercedes|            A200|      136|    moyenne|       5|       5|   bleu|   false| 25900|                   8237.358|                189.555|                    749.98|\n",
      "|    Lancia| Ypsilon 1.4 16V|       90|     courte|       5|       3|  rouge|   false| 13500|                   6137.231|                158.495|                   561.465|\n",
      "|    Lancia| Ypsilon 1.4 16V|       90|     courte|       5|       3|   bleu|    true|  9450|                   6137.231|                158.495|                   561.465|\n",
      "|    Lancia| Ypsilon 1.4 16V|       90|     courte|       5|       3|   gris|   false| 13500|                   6137.231|                158.495|                   561.465|\n",
      "|    Lancia| Ypsilon 1.4 16V|       90|     courte|       5|       3|   bleu|   false| 13500|                   6137.231|                158.495|                   561.465|\n",
      "|    Lancia| Ypsilon 1.4 16V|       90|     courte|       5|       3|   noir|   false| 13500|                   6137.231|                158.495|                   561.465|\n",
      "|    Lancia| Ypsilon 1.4 16V|       90|     courte|       5|       3|  rouge|    true|  9450|                   6137.231|                158.495|                   561.465|\n",
      "|    Lancia| Ypsilon 1.4 16V|       90|     courte|       5|       3|   gris|    true|  9450|                   6137.231|                158.495|                   561.465|\n",
      "|    Lancia| Ypsilon 1.4 16V|       90|     courte|       5|       3|  blanc|   false| 13500|                   6137.231|                158.495|                   561.465|\n",
      "|    Lancia| Ypsilon 1.4 16V|       90|     courte|       5|       3|  blanc|    true|  9450|                   6137.231|                158.495|                   561.465|\n",
      "|    Lancia| Ypsilon 1.4 16V|       90|     courte|       5|       3|   noir|    true|  9450|                   6137.231|                158.495|                   561.465|\n",
      "|       Kia|     Picanto 1.1|       65|     courte|       5|       5|  blanc|   false|  8990|                    -6000.0|                   31.0|                   157.667|\n",
      "|       Kia|     Picanto 1.1|       65|     courte|       5|       5|   gris|   false|  8990|                    -6000.0|                   31.0|                   157.667|\n",
      "|       Kia|     Picanto 1.1|       65|     courte|       5|       5|   noir|   false|  8990|                    -6000.0|                   31.0|                   157.667|\n",
      "|       Kia|     Picanto 1.1|       65|     courte|       5|       5|  rouge|   false|  8990|                    -6000.0|                   31.0|                   157.667|\n",
      "|       Kia|     Picanto 1.1|       65|     courte|       5|       5|   bleu|   false|  8990|                    -6000.0|                   31.0|                   157.667|\n",
      "|    Jaguar|   X-Type 2.5 V6|      197|     longue|       5|       5|   gris|   false| 37100|                    -6000.0|                    0.0|                     271.0|\n",
      "|    Jaguar|   X-Type 2.5 V6|      197|     longue|       5|       5|  blanc|    true| 25970|                    -6000.0|                    0.0|                     271.0|\n",
      "|    Jaguar|   X-Type 2.5 V6|      197|     longue|       5|       5|  rouge|    true| 25970|                    -6000.0|                    0.0|                     271.0|\n",
      "|    Jaguar|   X-Type 2.5 V6|      197|     longue|       5|       5|  rouge|   false| 37100|                    -6000.0|                    0.0|                     271.0|\n",
      "|    Jaguar|   X-Type 2.5 V6|      197|     longue|       5|       5|   bleu|    true| 25970|                    -6000.0|                    0.0|                     271.0|\n",
      "|    Jaguar|   X-Type 2.5 V6|      197|     longue|       5|       5|   gris|    true| 25970|                    -6000.0|                    0.0|                     271.0|\n",
      "|    Jaguar|   X-Type 2.5 V6|      197|     longue|       5|       5|   noir|    true| 25970|                    -6000.0|                    0.0|                     271.0|\n",
      "|    Jaguar|   X-Type 2.5 V6|      197|     longue|       5|       5|   noir|   false| 37100|                    -6000.0|                    0.0|                     271.0|\n",
      "|    Jaguar|   X-Type 2.5 V6|      197|     longue|       5|       5|  blanc|   false| 37100|                    -6000.0|                    0.0|                     271.0|\n",
      "|    Jaguar|   X-Type 2.5 V6|      197|     longue|       5|       5|   bleu|   false| 37100|                    -6000.0|                    0.0|                     271.0|\n",
      "|   Hyundaï|      Matrix 1.6|      103|     longue|       7|       5|   bleu|   false| 15960|                   6137.231|                158.495|                   561.465|\n",
      "|   Hyundaï|      Matrix 1.6|      103|     longue|       7|       5|  blanc|   false| 15960|                   6137.231|                158.495|                   561.465|\n",
      "|   Hyundaï|      Matrix 1.6|      103|     longue|       7|       5|   gris|   false| 15960|                   6137.231|                158.495|                   561.465|\n",
      "|   Hyundaï|      Matrix 1.6|      103|     longue|       7|       5|   noir|   false| 15960|                   6137.231|                158.495|                   561.465|\n",
      "|   Hyundaï|      Matrix 1.6|      103|     longue|       7|       5|  rouge|   false| 15960|                   6137.231|                158.495|                   561.465|\n",
      "|     Honda|        FR-V 1.7|      125|     longue|       7|       5|   noir|   false| 19550|                   6137.231|                158.495|                   561.465|\n",
      "|     Honda|        FR-V 1.7|      125|     longue|       7|       5|   bleu|   false| 19550|                   6137.231|                158.495|                   561.465|\n",
      "|     Honda|        FR-V 1.7|      125|     longue|       7|       5|   gris|   false| 19550|                   6137.231|                158.495|                   561.465|\n",
      "|     Honda|        FR-V 1.7|      125|     longue|       7|       5|  blanc|   false| 19550|                   6137.231|                158.495|                   561.465|\n",
      "|     Honda|        FR-V 1.7|      125|     longue|       7|       5|  rouge|   false| 19550|                   6137.231|                158.495|                   561.465|\n",
      "|      Ford|      Mondeo 1.8|      125|     longue|       5|       5|  blanc|    true| 16730|                   6137.231|                158.495|                   561.465|\n",
      "|      Ford|      Mondeo 1.8|      125|     longue|       5|       5|   gris|    true| 16730|                   6137.231|                158.495|                   561.465|\n",
      "|      Ford|      Mondeo 1.8|      125|     longue|       5|       5|   bleu|    true| 16730|                   6137.231|                158.495|                   561.465|\n",
      "|      Ford|      Mondeo 1.8|      125|     longue|       5|       5|   noir|    true| 16730|                   6137.231|                158.495|                   561.465|\n",
      "|      Ford|      Mondeo 1.8|      125|     longue|       5|       5|  rouge|    true| 16730|                   6137.231|                158.495|                   561.465|\n",
      "|      Ford|      Mondeo 1.8|      125|     longue|       5|       5|   bleu|   false| 23900|                   6137.231|                158.495|                   561.465|\n",
      "|      Ford|      Mondeo 1.8|      125|     longue|       5|       5|  blanc|   false| 23900|                   6137.231|                158.495|                   561.465|\n",
      "|      Ford|      Mondeo 1.8|      125|     longue|       5|       5|   noir|   false| 23900|                   6137.231|                158.495|                   561.465|\n",
      "|      Ford|      Mondeo 1.8|      125|     longue|       5|       5|   gris|   false| 23900|                   6137.231|                158.495|                   561.465|\n",
      "|      Ford|      Mondeo 1.8|      125|     longue|       5|       5|  rouge|   false| 23900|                   6137.231|                158.495|                   561.465|\n",
      "|      Fiat|       Croma 2.2|      147|     longue|       5|       5|  blanc|    true| 17346|                   6137.231|                158.495|                   561.465|\n",
      "|      Fiat|       Croma 2.2|      147|     longue|       5|       5|   bleu|    true| 17346|                   6137.231|                158.495|                   561.465|\n",
      "|      Fiat|       Croma 2.2|      147|     longue|       5|       5|  rouge|    true| 17346|                   6137.231|                158.495|                   561.465|\n",
      "|      Fiat|       Croma 2.2|      147|     longue|       5|       5|   gris|    true| 17346|                   6137.231|                158.495|                   561.465|\n",
      "|      Fiat|       Croma 2.2|      147|     longue|       5|       5|  rouge|   false| 24780|                   6137.231|                158.495|                   561.465|\n",
      "|      Fiat|       Croma 2.2|      147|     longue|       5|       5|   bleu|   false| 24780|                   6137.231|                158.495|                   561.465|\n",
      "|      Fiat|       Croma 2.2|      147|     longue|       5|       5|   noir|    true| 17346|                   6137.231|                158.495|                   561.465|\n",
      "|      Fiat|       Croma 2.2|      147|     longue|       5|       5|  blanc|   false| 24780|                   6137.231|                158.495|                   561.465|\n",
      "|      Fiat|       Croma 2.2|      147|     longue|       5|       5|   noir|   false| 24780|                   6137.231|                158.495|                   561.465|\n",
      "|      Fiat|       Croma 2.2|      147|     longue|       5|       5|   gris|   false| 24780|                   6137.231|                158.495|                   561.465|\n",
      "|  Daihatsu|       Cuore 1.0|       58|     courte|       5|       3|   noir|   false|  8850|                   6137.231|                158.495|                   561.465|\n",
      "|  Daihatsu|       Cuore 1.0|       58|     courte|       5|       3|  blanc|   false|  8850|                   6137.231|                158.495|                   561.465|\n",
      "|  Daihatsu|       Cuore 1.0|       58|     courte|       5|       3|  rouge|   false|  8850|                   6137.231|                158.495|                   561.465|\n",
      "|  Daihatsu|       Cuore 1.0|       58|     courte|       5|       3|   bleu|   false|  8850|                   6137.231|                158.495|                   561.465|\n",
      "|  Daihatsu|       Cuore 1.0|       58|     courte|       5|       3|   gris|   false|  8850|                   6137.231|                158.495|                   561.465|\n",
      "|     Dacia|   Logan 1.6 MPI|       90|    moyenne|       5|       5|  blanc|   false|  7500|                   6137.231|                158.495|                   561.465|\n",
      "|     Dacia|   Logan 1.6 MPI|       90|    moyenne|       5|       5|  rouge|   false|  7500|                   6137.231|                158.495|                   561.465|\n",
      "|     Dacia|   Logan 1.6 MPI|       90|    moyenne|       5|       5|   noir|   false|  7500|                   6137.231|                158.495|                   561.465|\n",
      "|     Dacia|   Logan 1.6 MPI|       90|    moyenne|       5|       5|   gris|   false|  7500|                   6137.231|                158.495|                   561.465|\n",
      "|     Dacia|   Logan 1.6 MPI|       90|    moyenne|       5|       5|   bleu|   false|  7500|                   6137.231|                158.495|                   561.465|\n",
      "|       BMW|              M5|      507|très longue|       5|       5|   bleu|    true| 66360|                    -6000.0|                 43.882|                    80.526|\n",
      "|       BMW|              M5|      507|très longue|       5|       5|   gris|   false| 94800|                    -6000.0|                 43.882|                    80.526|\n",
      "|       BMW|              M5|      507|très longue|       5|       5|  blanc|   false| 94800|                    -6000.0|                 43.882|                    80.526|\n",
      "|       BMW|              M5|      507|très longue|       5|       5|   noir|   false| 94800|                    -6000.0|                 43.882|                    80.526|\n",
      "|       BMW|              M5|      507|très longue|       5|       5|  rouge|    true| 66360|                    -6000.0|                 43.882|                    80.526|\n",
      "|       BMW|              M5|      507|très longue|       5|       5|  blanc|    true| 66360|                    -6000.0|                 43.882|                    80.526|\n",
      "|       BMW|              M5|      507|très longue|       5|       5|   bleu|   false| 94800|                    -6000.0|                 43.882|                    80.526|\n",
      "|       BMW|              M5|      507|très longue|       5|       5|   gris|    true| 66360|                    -6000.0|                 43.882|                    80.526|\n",
      "|       BMW|              M5|      507|très longue|       5|       5|  rouge|   false| 94800|                    -6000.0|                 43.882|                    80.526|\n",
      "|       BMW|              M5|      507|très longue|       5|       5|   noir|    true| 66360|                    -6000.0|                 43.882|                    80.526|\n",
      "|       BMW|            120i|      150|    moyenne|       5|       5|  rouge|    true| 25060|                    -6000.0|                 43.882|                    80.526|\n",
      "|       BMW|            120i|      150|    moyenne|       5|       5|   bleu|   false| 35800|                    -6000.0|                 43.882|                    80.526|\n",
      "|       BMW|            120i|      150|    moyenne|       5|       5|  blanc|   false| 35800|                    -6000.0|                 43.882|                    80.526|\n",
      "|       BMW|            120i|      150|    moyenne|       5|       5|   gris|   false| 35800|                    -6000.0|                 43.882|                    80.526|\n",
      "|       BMW|            120i|      150|    moyenne|       5|       5|  rouge|   false| 35800|                    -6000.0|                 43.882|                    80.526|\n",
      "|       BMW|            120i|      150|    moyenne|       5|       5|   bleu|    true| 25060|                    -6000.0|                 43.882|                    80.526|\n",
      "|       BMW|            120i|      150|    moyenne|       5|       5|   gris|    true| 25060|                    -6000.0|                 43.882|                    80.526|\n",
      "|       BMW|            120i|      150|    moyenne|       5|       5|   noir|    true| 25060|                    -6000.0|                 43.882|                    80.526|\n",
      "|       BMW|            120i|      150|    moyenne|       5|       5|  blanc|    true| 25060|                    -6000.0|                 43.882|                    80.526|\n",
      "|       BMW|            120i|      150|    moyenne|       5|       5|   noir|   false| 35800|                    -6000.0|                 43.882|                    80.526|\n",
      "|      Audi|      A3 2.0 FSI|      150|    moyenne|       5|       5|   noir|    true| 19950|                    -6000.0|                   43.5|                     191.6|\n",
      "|      Audi|      A3 2.0 FSI|      150|    moyenne|       5|       5|   noir|   false| 28500|                    -6000.0|                   43.5|                     191.6|\n",
      "|      Audi|      A3 2.0 FSI|      150|    moyenne|       5|       5|  rouge|   false| 28500|                    -6000.0|                   43.5|                     191.6|\n",
      "|      Audi|      A3 2.0 FSI|      150|    moyenne|       5|       5|   gris|    true| 19950|                    -6000.0|                   43.5|                     191.6|\n",
      "|      Audi|      A3 2.0 FSI|      150|    moyenne|       5|       5|  blanc|   false| 28500|                    -6000.0|                   43.5|                     191.6|\n",
      "|      Audi|      A3 2.0 FSI|      150|    moyenne|       5|       5|  blanc|    true| 19950|                    -6000.0|                   43.5|                     191.6|\n",
      "|      Audi|      A3 2.0 FSI|      150|    moyenne|       5|       5|   bleu|    true| 19950|                    -6000.0|                   43.5|                     191.6|\n",
      "|      Audi|      A3 2.0 FSI|      150|    moyenne|       5|       5|   bleu|   false| 28500|                    -6000.0|                   43.5|                     191.6|\n",
      "|      Audi|      A3 2.0 FSI|      150|    moyenne|       5|       5|   gris|   false| 28500|                    -6000.0|                   43.5|                     191.6|\n",
      "|      Audi|      A3 2.0 FSI|      150|    moyenne|       5|       5|  rouge|    true| 19950|                    -6000.0|                   43.5|                     191.6|\n",
      "|      Audi|          A2 1.4|       75|     courte|       5|       5|   noir|    true| 12817|                    -6000.0|                   43.5|                     191.6|\n",
      "|      Audi|          A2 1.4|       75|     courte|       5|       5|   bleu|   false| 18310|                    -6000.0|                   43.5|                     191.6|\n",
      "|      Audi|          A2 1.4|       75|     courte|       5|       5|   gris|   false| 18310|                    -6000.0|                   43.5|                     191.6|\n",
      "|      Audi|          A2 1.4|       75|     courte|       5|       5|   bleu|    true| 12817|                    -6000.0|                   43.5|                     191.6|\n",
      "|      Audi|          A2 1.4|       75|     courte|       5|       5|   gris|    true| 12817|                    -6000.0|                   43.5|                     191.6|\n",
      "|      Audi|          A2 1.4|       75|     courte|       5|       5|   noir|   false| 18310|                    -6000.0|                   43.5|                     191.6|\n",
      "|      Audi|          A2 1.4|       75|     courte|       5|       5|  rouge|   false| 18310|                    -6000.0|                   43.5|                     191.6|\n",
      "|      Audi|          A2 1.4|       75|     courte|       5|       5|  blanc|    true| 12817|                    -6000.0|                   43.5|                     191.6|\n",
      "|      Audi|          A2 1.4|       75|     courte|       5|       5|  rouge|    true| 12817|                    -6000.0|                   43.5|                     191.6|\n",
      "|      Audi|          A2 1.4|       75|     courte|       5|       5|  blanc|   false| 18310|                    -6000.0|                   43.5|                     191.6|\n",
      "+----------+----------------+---------+-----------+--------+--------+-------+--------+------+---------------------------+-----------------------+--------------------------+\n",
      "\n"
     ]
    }
   ],
   "source": [
    "# Afficher la totalité des données\n",
    "joined_data.show(270)"
   ]
  },
  {
   "cell_type": "markdown",
   "id": "DOsCvUuug1-A",
   "metadata": {
    "id": "DOsCvUuug1-A"
   },
   "source": [
    "On définit le chemin de destination pour enregistrer le DataFrame joined_data au format CSV et exporte les données résultantes vers ce le fichier \"resultat_Catalogue_CO2.csv\" en HDFS.\n",
    "Une fois cette opération terminée, les données de joined_data seront écrites dans le fichier CSV spécifié à l'emplacement indiqué afin que nous puissions l'intégrer par la suite dans datalake Hive."
   ]
  },
  {
   "cell_type": "code",
   "execution_count": 18,
   "id": "189cdeda-6b3e-4f59-b626-fed32ac2ee5e",
   "metadata": {
    "id": "189cdeda-6b3e-4f59-b626-fed32ac2ee5e"
   },
   "outputs": [
    {
     "name": "stderr",
     "output_type": "stream",
     "text": [
      "                                                                                \r"
     ]
    }
   ],
   "source": [
    "# Définir le chemin de destination du fichier CSV \n",
    "output_path = \"/MBDS_Projet/resultat_Catalogue_CO2.csv\"\n",
    "\n",
    "# Exporter les données résultantes au format CSV vers HDFS\n",
    "joined_data.write.csv(output_path, mode=\"overwrite\", header=True)"
   ]
  },
  {
   "cell_type": "markdown",
   "id": "2eca7e67-2e8a-4414-a8ea-10142b4bcb27",
   "metadata": {},
   "source": [
    "- Charger les données dans le répertoire local de la machine virtuelle : "
   ]
  },
  {
   "cell_type": "code",
   "execution_count": 27,
   "id": "c819f68d-0350-4e7a-b952-5bea34c0e72c",
   "metadata": {},
   "outputs": [],
   "source": [
    "# Exporter les données au format CSV localement\n",
    "joined_data.to_csv(\"resultat_Catalogue_CO2.csv\", index=False)"
   ]
  },
  {
   "cell_type": "markdown",
   "id": "033d5eaf-daef-4c28-8c5f-27d09f207311",
   "metadata": {},
   "source": [
    "Vous pouvez accéder au fichier \"resultat_Catalogue_CO2.csv\" dans le rendu du projet, ou bien vous pouvez également le télécharger directement en utilisant le lien suivant : https://drive.google.com/file/d/1bfh1_5auKf45xuIR2oyDjYes-AfUHyLY/view?usp=sharing"
   ]
  },
  {
   "cell_type": "markdown",
   "id": "SG4J6DJHhAZs",
   "metadata": {
    "id": "SG4J6DJHhAZs"
   },
   "source": [
    "On arrête la session Spark, ce qui libère les ressources utilisées par Spark et termine l'exécution du programme."
   ]
  },
  {
   "cell_type": "code",
   "execution_count": 42,
   "id": "698d433d-4328-4c5e-ae95-25e41e135872",
   "metadata": {
    "id": "698d433d-4328-4c5e-ae95-25e41e135872"
   },
   "outputs": [],
   "source": [
    "# Arrêt de la session Spark\n",
    "spark.stop()"
   ]
  }
 ],
 "metadata": {
  "colab": {
   "provenance": []
  },
  "kernelspec": {
   "display_name": "Python 3 (ipykernel)",
   "language": "python",
   "name": "python3"
  },
  "language_info": {
   "codemirror_mode": {
    "name": "ipython",
    "version": 3
   },
   "file_extension": ".py",
   "mimetype": "text/x-python",
   "name": "python",
   "nbconvert_exporter": "python",
   "pygments_lexer": "ipython3",
   "version": "3.11.5"
  }
 },
 "nbformat": 4,
 "nbformat_minor": 5
}
